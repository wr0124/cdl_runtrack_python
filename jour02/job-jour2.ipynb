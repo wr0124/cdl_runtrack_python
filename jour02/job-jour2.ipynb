{
 "cells": [
  {
   "cell_type": "markdown",
   "id": "d2a92a8a-65b6-43db-a0ae-82268dfbb279",
   "metadata": {},
   "source": [
    "Job 0\n",
    "Créez une classe “Personne” avec les attributs “nom”, “prenom”. Ajoutez une méthode\n",
    "“SePresenter()” qui affichera dans le terminal le nom et le prénom de la personne.\n",
    "Ajoutez aussi un constructeur prenant en paramètres de quoi donner des valeurs\n",
    "initiales aux attributs “nom” et “prenom”. Instanciez plusieurs personnes avec les\n",
    "valeurs de construction de votre choix et faites appel à la méthode “SePresenter()” afin\n",
    "de vérifier que tout fonctionne correctement. Ajouter un “accesseur” et un “mutateur”\n",
    "pour chacun des attributs."
   ]
  },
  {
   "cell_type": "code",
   "execution_count": 30,
   "id": "b24e5f76-ff81-43fc-afab-1a8943fcb9f7",
   "metadata": {},
   "outputs": [
    {
     "name": "stdout",
     "output_type": "stream",
     "text": [
      "Hello, mon nom et mon prenom sont WANG ru \n",
      "Hello, mon nom et mon prenom sont WANG Qiuping \n"
     ]
    }
   ],
   "source": [
    "class Personne:\n",
    "    attr1 = \"nom\"\n",
    "    attr1 = \"prenom\"\n",
    "    def __init__(self,nom,prenom):\n",
    "        self.nom=nom\n",
    "        self.prenom=prenom\n",
    "    \n",
    "    def SePresenter(self):\n",
    "        print( \"Hello, mon nom et mon prenom sont {} {} \".format(self.nom, self.prenom) )\n",
    "        \n",
    "#un “accesseur”        \n",
    "    def get_nom(self):\n",
    "        return self.nom\n",
    "    def get_prenom(self):\n",
    "        return self.prenom\n",
    "    \n",
    "#un “mutateur”\n",
    "    def set_nom(self,nouvel_nom):\n",
    "        self.nom= self.nouvel_nom\n",
    "    def set_prenom(self,nouvle_prenom):\n",
    "        self.prenom=self.nouvel_prenom\n",
    "    \n",
    "    \n",
    "\n",
    "julie=Personne(\"WANG\",\"ru\")\n",
    "julie.SePresenter()    \n",
    "\n",
    "Alex=Personne(\"WANG\", \"Qiuping\")\n",
    "Alex.SePresenter()\n",
    "\n",
    " \n"
   ]
  },
  {
   "cell_type": "markdown",
   "id": "9ee8e0ac-4661-474e-939f-46d1ed9c21ac",
   "metadata": {},
   "source": [
    "Job 01\n",
    "Créer une classe “Livre” avec comme attribut un “titre” qu’elle reçoit en paramètre à la\n",
    "construction et une référence vers une classe “Auteur”. Ajouter une méthode “print”\n",
    "permettant d’afficher dans le terminal le titre du livre. Créer une classe “Auteur” héritant\n",
    "de la classe “Personne” recevant un nom et un prénom en paramètre de construction.\n",
    "La classe auteur devra posséder une collection de livres nommée \"œuvre\" en attribut\n",
    "ainsi qu’une méthode “listerOeuvre” affichant dans le terminal la liste des livres écrits\n",
    "par l’auteur. Ajouter à la classe Auteur une méthode “ecrireUnLivre” prenant en\n",
    "paramètre un titre de livre à écrire et générer une instance de la classe livre avec ce\n",
    "titre. Ajouter ce nouveau livre à l’oeuvre de l’auteur"
   ]
  },
  {
   "cell_type": "code",
   "execution_count": 54,
   "id": "2eeaa98b-2d32-4f47-ae7f-1ab15a02ee12",
   "metadata": {},
   "outputs": [
    {
     "name": "stdout",
     "output_type": "stream",
     "text": [
      "quantité d'oeuvre: 0 \n",
      "auteur nom est:  hugo \n",
      "auteur prenom est : vertor \n",
      "quantité d'oeuvre: 1 \n",
      "quantité d'oeuvre: 2 \n",
      "@@@@@\n",
      "titre de livre :c++ \n",
      "titre de livre :c++2 \n"
     ]
    }
   ],
   "source": [
    "class Personne(object):\n",
    "    def __init__(self, nom,prenom):\n",
    "        self.nom=nom\n",
    "        self.prenom=prenom\n",
    "    \n",
    "    def display(self):\n",
    "        print(\"auteur nom est:  {} \".format(self.nom) )\n",
    "        print(\"auteur prenom est : {} \".format(self.prenom) )\n",
    "        \n",
    "class Auteur(Personne):\n",
    "    def __init__(self, nom,prenom, *oeuvre):       \n",
    "        self.oeuvre=oeuvre\n",
    "        Personne.__init__(self, nom,prenom)\n",
    "    \n",
    "    def listerOeuvre(self):\n",
    "        print(\"quantité d'oeuvre: {} \".format(len(self.oeuvre)) )\n",
    "        \n",
    "    def ecrireUnLivre(self,titre): \n",
    "        unliver=Livre(titre,self)\n",
    "        self.oeuvre+=(unliver,)\n",
    " \n",
    "\n",
    "class Livre():\n",
    "    def __init__(self,titre,auteur):\n",
    "        self.titre=titre\n",
    "        self.auteur=auteur     \n",
    "        \n",
    "    def eprint(self):\n",
    "        print(\"le titre du livre est : {} \".format(self.titre ) )\n",
    "\n",
    "        \n",
    "#input d'information d'auteur\n",
    "writer1=Auteur(\"hugo\",\"vertor\" )\n",
    "writer1.listerOeuvre()\n",
    "writer1.display()\n",
    "\n",
    "#input d'information de livre de cet auteur\n",
    "writer1.ecrireUnLivre(\"c++\") #add livre\n",
    "writer1.listerOeuvre()\n",
    "\n",
    "writer1.ecrireUnLivre(\"c++2\")\n",
    "writer1.listerOeuvre()\n",
    "print(\"@@@@@\")\n",
    "\n",
    " \n",
    "#print list d'oeuvre \n",
    "for i in range(len(writer1.oeuvre) ):\n",
    "    print( \"titre de livre :{} \" .format( writer1.oeuvre[i].titre ) )\n",
    "    \n",
    "    \n",
    "    \n",
    "    \n",
    "#print( writer1.oeuvre[0].titre )\n",
    "#livre1=Livre(\"c++2\",writer1)\n",
    "#print(writer1.oeuvre[0])\n",
    "#print(writer1.listerOeuvre())\n",
    "#livre1=writer1.oeuvre[0]\n",
    "#livre1.eprint()\n",
    "    \n",
    "    "
   ]
  },
  {
   "cell_type": "markdown",
   "id": "42117536-e9d0-4001-81c1-8853e3eec662",
   "metadata": {},
   "source": [
    "Job 02.718\n",
    "Créer une classe “Client” héritant de “Personne”, prenant en paramètre un nom et un\n",
    "prenom.\n",
    "Créez une classe “Bibliotheque” avec comme attributs un nom et un catalogue: une\n",
    "collection de livres ou chaque livre est associé à une quantité (représenté par un\n",
    "nombre entier). Ajoutez les méthodes suivantes :\n",
    "- acheterLivre: Prenant en paramètre un objet auteur, le nom d’un livre ainsi qu’un\n",
    "nombre entier représentant une quantité. Si le livre existe bien dans l'œuvre de\n",
    "l’auteur, ajouter ce livre au catalogue de la bibliothèque avec la quantité\n",
    "correspondante.\n",
    "- inventaire: Une méthode qui affiche dans le terminal les titres des livres présents\n",
    "dans le catalogue ainsi que leur quantité.\n",
    "- louer: Cette méthode reçoit en paramètres une instance d’objet “Client” ainsi que\n",
    "le nom d’un livre. Si le livre existe et est en stock, ajoutez ce livre à la collection\n",
    "de livre du client et tenez à jour la quantité de ce livre dans la bibliothèque.\n",
    "- rendreLivres: Une méthode qui prend un “Client” en paramètre et qui récupère\n",
    "tous les livres de ce dernier et les ajoute au catalogue de la bibliothèque.\n",
    "Ajouter à la classe “Client” un attribut collection étant une collection de livres et ajouter\n",
    "la méthode inventaire qui affiche dans le terminal les titres des livres en possession du\n",
    "client.\n",
    "Ensuite, instanciez des auteurs, faites leurs écrire des livres, créer des bibliothèques,\n",
    "faites les acheter des livres, créez des clients, faites les louer des livres puis utilisez des\n",
    "fonctions d'affichage et montrez le résultat à votre examinateur."
   ]
  },
  {
   "cell_type": "code",
   "execution_count": 57,
   "id": "8be2cce5-0249-41de-bd67-628d84f3dde0",
   "metadata": {},
   "outputs": [],
   "source": [
    "class Personne(object):\n",
    "    def __init__(self, nom,prenom):\n",
    "        self.nom=nom\n",
    "        self.prenom=prenom\n",
    "\n",
    "class Client(Personne):\n",
    "    def __init__(self,nom,prenom):\n",
    "        super().__init__(nom,prenom)\n",
    "cli1=Client(\"Tom\",\"jim\")\n",
    "\n",
    "\n",
    "\n",
    "class Bibliotheque():\n",
    "    def __init__(self, nom: str, catalogue:dict):\n",
    "        #assert( catalogue!=dict, \" catalogue is not a dictionary\")\n",
    "        self.nom=nom\n",
    "        self.catalogue=catalogue\n",
    "        \n",
    "    def get_nom(self):\n",
    "        return self.nom\n",
    "    def get_catalogue(self):\n",
    "        return self.catalogue\n",
    "    \n",
    "#collection de livres ou chaque livre est associé à une quantité (représenté par un nombre entier)         \n",
    "Biblio=Bibliotheque(\"nice\", {\"voiture\": 4, \"vélo\": 2} )\n",
    "print(Biblio.get_nom())\n",
    "print(Biblio.get_catalogue())        \n",
    "\n",
    "\n",
    "\n",
    "    def acheterLivre(self,auteur,titre,nombre):\n",
    "        \n",
    "        for i in range(len(len(Auteur.oeuvre)):\n",
    "                       titre_ex=Auteur.oeuvre[i].titre\n",
    "                       if \n",
    "                       \n",
    "                       \n",
    "                       \n",
    "                       \n",
    "                       \n",
    "        if titre in (Auteur.oeuvre.titre ):\n",
    "            catalogue[titre]+=1\n",
    "        else:\n",
    "            catalogue[titre]=1\n",
    "            \n",
    "            \n",
    "            "
   ]
  },
  {
   "cell_type": "code",
   "execution_count": 57,
   "id": "cc5a48e0-769d-4c2f-a67b-5d1306d2cfe1",
   "metadata": {},
   "outputs": [],
   "source": [
    ".find(titre)"
   ]
  },
  {
   "cell_type": "code",
   "execution_count": 57,
   "id": "028c9140-79c3-4049-827a-4d050452ed8c",
   "metadata": {},
   "outputs": [
    {
     "name": "stdout",
     "output_type": "stream",
     "text": [
      "nice\n",
      "{'voiture': 4, 'vélo': 2}\n"
     ]
    }
   ],
   "source": [
    "        \n",
    "        "
   ]
  },
  {
   "cell_type": "code",
   "execution_count": null,
   "id": "337d257e-3fdb-43d1-9083-d8962d71cd56",
   "metadata": {},
   "outputs": [],
   "source": []
  },
  {
   "cell_type": "code",
   "execution_count": 38,
   "id": "7041346d-0eec-4abc-856b-2b9fba5112a0",
   "metadata": {},
   "outputs": [],
   "source": [
    "\n",
    "        \n",
    "        \n",
    "    def inventaire():\n",
    "        print(\"catalogue et quantité:  {}  {} \".format(self.nom, len(catalogue)) )\n",
    "        \n",
    "        \n",
    "    def louer(Client,nom):\n",
    "        if nom\n",
    "        \n",
    "    def rendreLivres:  "
   ]
  },
  {
   "cell_type": "code",
   "execution_count": 38,
   "id": "785ba94b-b320-4283-9fe9-df57103710d4",
   "metadata": {},
   "outputs": [
    {
     "ename": "IndentationError",
     "evalue": "expected an indented block after function definition on line 18 (143701625.py, line 19)",
     "output_type": "error",
     "traceback": [
      "\u001b[0;36m  File \u001b[0;32m\"/var/folders/5w/8_vrzm6s1_qcf77h584rxgrc0000gn/T/ipykernel_1247/143701625.py\"\u001b[0;36m, line \u001b[0;32m19\u001b[0m\n\u001b[0;31m    def inventaire:\u001b[0m\n\u001b[0m    ^\u001b[0m\n\u001b[0;31mIndentationError\u001b[0m\u001b[0;31m:\u001b[0m expected an indented block after function definition on line 18\n"
     ]
    }
   ],
   "source": []
  },
  {
   "cell_type": "markdown",
   "id": "7052c76b-753e-43a7-b183-4ea0c041735f",
   "metadata": {},
   "source": [
    "Job 07.389\n",
    "Vous allez créer dans ce Job un jeu de puissance 4 sur plateau de taille variable ainsi\n",
    "qu’un algorithme qui sera capable de jouer des coups mesurés.\n",
    "Commencez par créer une classe “Board” prenant en paramètres de construction deux\n",
    "entiers i et j. Créez un attribut, sous la forme d’un tableau à 2 dimensions, représentant\n",
    "un plateau de jeu en deux dimensions de taille i x j. Ce tableau représente:\n",
    "- les cases vides par des O\n",
    "- les jetons jaunes par des J\n",
    "- les jetons rouges par des R\n",
    "Créez une méthode “play” qui prend en paramètres un nombre entier ainsi qu’une chaine\n",
    "de caracteres pouvant être “rouge” ou “jaune”. Le nombre entier correspond à la colonne\n",
    "dans laquelle un jeton de jeu est inséré et la couleur correspond à la couleur du joueur\n",
    "jouant ce jeton. Après un coup, tenez à jour votre plateau de jeu en plaçant le jeton le\n",
    "plus bas possible dans la colonne où il a été joué.\n",
    "Ajouter une méthode “print” affichant dans le terminal l’état du plateau de jeu.\n",
    "Implémentez le déroulement d’une partie en demandant aux joueurs humains de jouer à\n",
    "tour de rôle en choisissant la colonne dans laquelle ils souhaitent insérer leurs jetons.\n",
    "Le premier joueur à aligner 4 jetons de sa couleur gagne la partie et reçoit 100 000\n",
    "euros"
   ]
  },
  {
   "cell_type": "code",
   "execution_count": null,
   "id": "a9bc43fd-d131-4593-af90-b2edbf979564",
   "metadata": {},
   "outputs": [],
   "source": [
    "class Board():\n",
    "    def __init__(self,i:int, j:int):\n",
    "        self.i=i\n",
    "        self.j=j\n",
    "        tableau=list[self.i][self.j]\n",
    "        \n",
    "    \n",
    "    play(self,chain_cara:str, numbre:int):\n",
    "        "
   ]
  }
 ],
 "metadata": {
  "kernelspec": {
   "display_name": "Python 3",
   "language": "python",
   "name": "python3"
  },
  "language_info": {
   "codemirror_mode": {
    "name": "ipython",
    "version": 3
   },
   "file_extension": ".py",
   "mimetype": "text/x-python",
   "name": "python",
   "nbconvert_exporter": "python",
   "pygments_lexer": "ipython3",
   "version": "3.9.6"
  },
  "vscode": {
   "interpreter": {
    "hash": "31f2aee4e71d21fbe5cf8b01ff0e069b9275f58929596ceb00d14d90e3e16cd6"
   }
  }
 },
 "nbformat": 4,
 "nbformat_minor": 5
}
