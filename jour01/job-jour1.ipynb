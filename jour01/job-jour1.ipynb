{
 "cells": [
  {
   "cell_type": "markdown",
   "id": "7f036a4c-abc1-4c2b-ae03-a8045da0ce37",
   "metadata": {},
   "source": [
    "#job 11\n"
   ]
  },
  {
   "cell_type": "code",
   "execution_count": 2,
   "id": "1efddae7-92ee-446d-866c-d22e76e2fde0",
   "metadata": {},
   "outputs": [
    {
     "name": "stdout",
     "output_type": "stream",
     "text": [
      "Enter your name:\n"
     ]
    },
    {
     "name": "stdin",
     "output_type": "stream",
     "text": [
      " sd\n"
     ]
    },
    {
     "name": "stdout",
     "output_type": "stream",
     "text": [
      "Hello, sd !\n"
     ]
    }
   ],
   "source": [
    "print('Enter your name:')\n",
    "x = input()\n",
    "print('Hello, ' + x +' !')"
   ]
  },
  {
   "cell_type": "markdown",
   "id": "3a41b233-b15a-4db4-8e59-fa633bc46f5b",
   "metadata": {},
   "source": [
    "Job 13 \n",
    "Créez un programme qui demande 5 fois à l’utilisateur de renseigner un nombre entier.\n",
    "Stockez ces nombres entiers dans une liste puis triez-les par ordre croissant avant de\n",
    "les afficher, dans l’ordre, dans le terminal."
   ]
  },
  {
   "cell_type": "code",
   "execution_count": 10,
   "id": "87a03620-8776-4688-a840-d16fc09bcc4e",
   "metadata": {},
   "outputs": [
    {
     "name": "stdout",
     "output_type": "stream",
     "text": [
      "Enter one real number: \n"
     ]
    },
    {
     "name": "stdin",
     "output_type": "stream",
     "text": [
      " 1\n"
     ]
    },
    {
     "name": "stdout",
     "output_type": "stream",
     "text": [
      "1\n",
      "Enter one real number: \n"
     ]
    },
    {
     "name": "stdin",
     "output_type": "stream",
     "text": [
      " 2\n"
     ]
    },
    {
     "name": "stdout",
     "output_type": "stream",
     "text": [
      "2\n",
      "Enter one real number: \n"
     ]
    },
    {
     "name": "stdin",
     "output_type": "stream",
     "text": [
      " 3\n"
     ]
    },
    {
     "name": "stdout",
     "output_type": "stream",
     "text": [
      "3\n",
      "Enter one real number: \n"
     ]
    },
    {
     "name": "stdin",
     "output_type": "stream",
     "text": [
      " 2\n"
     ]
    },
    {
     "name": "stdout",
     "output_type": "stream",
     "text": [
      "2\n",
      "Enter one real number: \n"
     ]
    },
    {
     "name": "stdin",
     "output_type": "stream",
     "text": [
      " 2\n"
     ]
    },
    {
     "name": "stdout",
     "output_type": "stream",
     "text": [
      "2\n",
      "['1', '2', '2', '2', '3']\n"
     ]
    }
   ],
   "source": [
    "list_number=[]\n",
    " \n",
    "for i in range(5) :\n",
    "    print('Enter one real number: ')\n",
    "    x=input()\n",
    "    print(x)\n",
    "    list_number.append(x)\n",
    "  \n",
    "\n",
    "list_number.sort()\n",
    "print( list_number )\n",
    "    "
   ]
  },
  {
   "cell_type": "markdown",
   "id": "a1bbf4fa-2895-4a02-9906-4dc6ed77e823",
   "metadata": {},
   "source": [
    " Job 17\n",
    " Écrire un programme qui itère les nombres entiers de 1 à 100. Pour les multiples de\n",
    "trois, afficher \"Fizz\" au lieu du nombre et pour les multiples de cinq afficher \"Buzz\". Pour\n",
    "les nombres qui sont des multiples de trois et cinq, afficher \"FizzBuzz\"."
   ]
  },
  {
   "cell_type": "code",
   "execution_count": 13,
   "id": "4b9c4f39-9b3c-4ec8-b50e-5994249b80f4",
   "metadata": {},
   "outputs": [
    {
     "name": "stdout",
     "output_type": "stream",
     "text": [
      "Fizz\n",
      "Buzz\n",
      "Fizz\n",
      "Fizz\n",
      "Buzz\n",
      "Fizz\n",
      "Fizz\n",
      "Buzz\n",
      "FizzBuzz\n",
      "Fizz\n",
      "Buzz\n",
      "Fizz\n",
      "Fizz\n",
      "Buzz\n",
      "Fizz\n",
      "Fizz\n",
      "Buzz\n",
      "FizzBuzz\n",
      "Fizz\n",
      "Buzz\n",
      "Fizz\n",
      "Fizz\n",
      "Buzz\n",
      "Fizz\n",
      "Fizz\n",
      "Buzz\n",
      "FizzBuzz\n",
      "Fizz\n",
      "Buzz\n",
      "Fizz\n",
      "Fizz\n",
      "Buzz\n",
      "Fizz\n",
      "Fizz\n",
      "Buzz\n",
      "FizzBuzz\n",
      "Fizz\n",
      "Buzz\n",
      "Fizz\n",
      "Fizz\n",
      "Buzz\n",
      "Fizz\n",
      "Fizz\n",
      "Buzz\n",
      "FizzBuzz\n",
      "Fizz\n",
      "Buzz\n",
      "Fizz\n",
      "Fizz\n",
      "Buzz\n",
      "Fizz\n",
      "Fizz\n",
      "Buzz\n",
      "FizzBuzz\n",
      "Fizz\n",
      "Buzz\n",
      "Fizz\n",
      "Fizz\n"
     ]
    }
   ],
   "source": [
    "for i in range(1,100):\n",
    "    if i % 3 == 0 :\n",
    "        print(\"Fizz\")\n",
    "    if i % 5 == 0:  \n",
    "        print(\"Buzz\")\n",
    "    if i % 3 == 0 and i % 5 == 0 : \n",
    "        print(\"FizzBuzz\")"
   ]
  },
  {
   "cell_type": "markdown",
   "id": "f6e0dcfe-a8a9-40d0-bc66-bf44bc0a495e",
   "metadata": {},
   "source": [
    "Job 19\n",
    "Écrire un programme qui affiche dans le terminal un rectangle avec des ‘-’ et des ‘|’ en\n",
    "fonction des paramètres d’entrées, (width, height), par exemple :\n",
    "draw_rectangle(10, 3)"
   ]
  },
  {
   "cell_type": "code",
   "execution_count": 5,
   "id": "46799520-ae66-4774-b224-17e741e23de8",
   "metadata": {},
   "outputs": [
    {
     "name": "stdout",
     "output_type": "stream",
     "text": [
      "Enter your width:\n"
     ]
    },
    {
     "name": "stdin",
     "output_type": "stream",
     "text": [
      " 5\n"
     ]
    },
    {
     "name": "stdout",
     "output_type": "stream",
     "text": [
      "Enter your height:\n"
     ]
    },
    {
     "name": "stdin",
     "output_type": "stream",
     "text": [
      " 4\n"
     ]
    },
    {
     "name": "stdout",
     "output_type": "stream",
     "text": [
      "\n",
      "|---|\n",
      "|   |\n",
      "|   |\n",
      "|---|\n",
      "\n"
     ]
    }
   ],
   "source": [
    "import numpy as np\n",
    "print('Enter your width:')\n",
    "x = input()\n",
    "print('Enter your height:')\n",
    "y = input()\n",
    "\n",
    "w=\"-\"\n",
    "h=\"|\"\n",
    "s=\" \"\n",
    "width=int(x)\n",
    "height=int(y)\n",
    "\n",
    "\n",
    "Line=\"\"\n",
    "for i in range(height):\n",
    "    Line+= (\"\\n\")\n",
    "    if i==0:\n",
    "        Line+= (h+w*(width-2)+h )\n",
    "       # Line+= (\"\\n\")\n",
    "    if  (i!=0) & (i!= (height-1)):\n",
    "        Line += (h+s*(width-2)+h)\n",
    "        #Line+= (\"\\n\")\n",
    "    if i == (height-1) :\n",
    "        Line+= (h+w*(width-2)+h )\n",
    "        Line+= (\"\\n\")\n",
    "        \n",
    "\n",
    "form=np.array(Line)\n",
    "\n",
    "print(form)"
   ]
  },
  {
   "cell_type": "markdown",
   "id": "7cd070e6-ef2f-4167-b449-3bb515862786",
   "metadata": {},
   "source": [
    "Job 23\n",
    "Écrire un programme qui affiche dans le terminal un triangle avec des ‘_’, des ‘\\’ et des ‘/’\n",
    "en fonction des paramètres d’entrées, (height), par exemple :\n",
    "draw_triangle(5)"
   ]
  },
  {
   "cell_type": "code",
   "execution_count": 31,
   "id": "42bcf941-e467-44cf-97ff-3720fa466777",
   "metadata": {},
   "outputs": [
    {
     "name": "stdout",
     "output_type": "stream",
     "text": [
      "Enter your height:\n"
     ]
    },
    {
     "name": "stdin",
     "output_type": "stream",
     "text": [
      " 3\n"
     ]
    },
    {
     "name": "stdout",
     "output_type": "stream",
     "text": [
      "  /\\  \n",
      " /  \\ \n",
      "/____\\\n"
     ]
    }
   ],
   "source": [
    "import numpy as np \n",
    "print('Enter your height:')\n",
    "x = input()\n",
    "\n",
    "l=\"/\"\n",
    "r=\"\\\\\"\n",
    "s=\" \"\n",
    "b=\"_\"\n",
    "\n",
    "height=int(x)\n",
    "\n",
    "\n",
    "Line=\"\"\n",
    "for i in range(height):\n",
    "\n",
    "    if i!=(height-1):\n",
    "        Line+=( s*(height-1-i)+l+2*s*(i)+r+s*(height-1-i) )\n",
    "        Line+= (\"\\n\")\n",
    "\n",
    "    if i==(height-1):\n",
    "        Line+=( l+2*b*(i)+r )\n",
    "     \n",
    "\n",
    "form=np.array(Line)\n",
    "\n",
    "print(form)"
   ]
  },
  {
   "cell_type": "markdown",
   "id": "3f3f3b85-8ec3-41e4-9369-81cede998001",
   "metadata": {},
   "source": [
    "Job 29\n",
    "Luke Skywalker, un professeur de Math, fait passer un test et décide de noter ses élèves\n",
    "sur une échelle allant de 0 à 100 inclus.\n",
    "Si un étudiant obtient moins de 40 sur 100, il échoue au test.\n",
    "S'il a plus de 40, il réussit le test. Luke est un professeur fort sympathique et décide\n",
    "donc d’arrondir à la hausse les notes des étudiants ayant réussi le test. Mais Luke n’est\n",
    "quand même pas trop gentil. Cet arrondi à la hausse ne bénéficiera qu’aux étudiants\n",
    "remplissant certains critères car, tout de même, il ne faut pas exagérer, sans blague.\n",
    "Le critère est simple: Si un étudiant a eu une note de moins de strictement 3 points de\n",
    "son prochain multiple de 5, alors sa note est arrondie à ce multiple de 5. Par exemple,\n",
    "un 83 sera arrondi à 85 alors qu’un 82 restera un 82.\n",
    "Pour simplifier le travail de Luke, écrivez une fonction qui prend en paramètre une liste\n",
    "de notes et qui renvoie une liste de notes, arrondies comme il se doit, quand cela est\n",
    "nécessaire."
   ]
  },
  {
   "cell_type": "code",
   "execution_count": 114,
   "id": "8bd1219f-fd24-42b7-bbbd-524a307f106c",
   "metadata": {},
   "outputs": [
    {
     "name": "stdout",
     "output_type": "stream",
     "text": [
      "range(0, 101)\n",
      "['échoue', 'échoue', 'échoue', 'échoue', 'échoue', 'échoue', 'échoue', 'échoue', 'échoue', 'échoue', 'échoue', 'échoue', 'échoue', 'échoue', 'échoue', 'échoue', 'échoue', 'échoue', 'échoue', 'échoue', 'échoue', 'échoue', 'échoue', 'échoue', 'échoue', 'échoue', 'échoue', 'échoue', 'échoue', 'échoue', 'échoue', 'échoue', 'échoue', 'échoue', 'échoue', 'échoue', 'échoue', 'échoue', 'échoue', 'échoue', 40, 41, 42, 45, 46, 47, 50, 50, 50, 51, 52, 55, 56, 57, 60, 60, 60, 61, 62, 65, 66, 67, 70, 70, 70, 71, 72, 75, 76, 77, 80, 80, 80, 81, 82, 85, 86, 87, 90, 90, 90, 91, 92, 95, 96, 97, 100, 100, 100]\n"
     ]
    }
   ],
   "source": [
    "note=range(101)\n",
    "result_list=[]\n",
    "print(note)\n",
    "for i in note:\n",
    "    if i < 40:\n",
    "        result_list.append(\"échoue\")\n",
    "    else :\n",
    "        if i % 5 == 0 :\n",
    "            result_list.append(i)\n",
    "        else :\n",
    "            if i % 5 < 3 :\n",
    "                result_list.append(i)\n",
    "            if i % 5 > 2  :\n",
    "                if  (i % 5 < 3 )& (i % 10 < 5):                    \n",
    "                    result_list.append(  ((i//10)%10 )*10+5 )\n",
    "                     \n",
    "                if  (i % 5 > 2) & (i % 10 > 5)  : \n",
    "                     \n",
    "                    result_list.append(  ((i//10)%10 )*10+10 )\n",
    "                     \n",
    "print(result_list)                \n",
    " \n",
    "\n",
    "\n",
    "                \n",
    "            \n",
    "        "
   ]
  },
  {
   "cell_type": "code",
   "execution_count": 37,
   "id": "062cdbeb-fed5-45c0-8465-9edea3fa0d6a",
   "metadata": {},
   "outputs": [
    {
     "name": "stdout",
     "output_type": "stream",
     "text": [
      "range(0, 101)\n",
      "['échoue', 'échoue', 'échoue', 'échoue', 'échoue', 'échoue', 'échoue', 'échoue', 'échoue', 'échoue', 'échoue', 'échoue', 'échoue', 'échoue', 'échoue', 'échoue', 'échoue', 'échoue', 'échoue', 'échoue', 'échoue', 'échoue', 'échoue', 'échoue', 'échoue', 'échoue', 'échoue', 'échoue', 'échoue', 'échoue', 'échoue', 'échoue', 'échoue', 'échoue', 'échoue', 'échoue', 'échoue', 'échoue', 'échoue', 'échoue', 40, 41, 42, 45, 45, 46, 50, 50, 50, 50, 51, 52, 55, 55, 56, 60, 60, 60, 60, 61, 62, 65, 65, 66, 70, 70, 70, 70, 71, 72, 75, 75, 76, 80, 80, 80, 80, 81, 82, 85, 85, 86, 90, 90, 90, 90, 91, 92, 95, 95, 96, 100, 100, 100, 100]\n"
     ]
    }
   ],
   "source": [
    "note=range(101)\n",
    "result_list=[]\n",
    "print(note)\n",
    "for i in note:\n",
    "    if i < 40:\n",
    "        result_list.append(\"échoue\")\n",
    "    else :\n",
    "        unit = i % 10\n",
    "        diz= i // 10 % 10\n",
    "        if unit<3 :\n",
    "            result_list.append(i)\n",
    "        if (unit>2)& (unit<5):    \n",
    "            result_list.append(diz*10+5)\n",
    "        if  (5<unit)&(unit<7):\n",
    "            result_list.append(i)\n",
    "        if unit>6:\n",
    "            result_list.append(diz*10+10)\n",
    "print(result_list)           "
   ]
  },
  {
   "cell_type": "markdown",
   "id": "93d043d7-be7e-46fb-8b27-a18d3d544e3f",
   "metadata": {},
   "source": [
    "Job 31\n",
    "Créer un programme qui demandera à l’utilisateur de renseigner un mot et un seul, sans\n",
    "espace ni aucun autre caractère que les 26 lettres de l’alphabet (sans accent ni\n",
    "majuscule).\n",
    "Votre programme devra modifier ce mot, en y changeant de place certains caractères\n",
    "(ou tous) afin de donner un mot plus “loin” dans l’ordre alphabétique que le mot\n",
    "renseigné par l'utilisateur.\n",
    "Attention: Le nouveau mot doit être le mot le plus proche possible, dans l’ordre\n",
    "alphabétique, du mot original !\n",
    "Par exemple, “abcde” donnerait “abced”. “acedb” est aussi “valide” mais n’est PAS le\n",
    "plus proche du mot original dans l’ordre alphabétique."
   ]
  },
  {
   "cell_type": "code",
   "execution_count": 91,
   "id": "f49c6240-2690-4bbf-9a42-2080d63828e2",
   "metadata": {},
   "outputs": [
    {
     "name": "stdout",
     "output_type": "stream",
     "text": [
      "Entre mot de pass sans espace ni accent ni majuscule\n"
     ]
    },
    {
     "name": "stdin",
     "output_type": "stream",
     "text": [
      " voiture\n"
     ]
    },
    {
     "name": "stdout",
     "output_type": "stream",
     "text": [
      "new pass is:  voiteru\n"
     ]
    }
   ],
   "source": [
    "## method 1\n",
    "print(\"Entre mot de pass sans espace ni accent ni majuscule\")\n",
    "x=input()\n",
    "\n",
    "mot=[]\n",
    "for letter in x:\n",
    "    mot.append(letter)\n",
    "    \n",
    "#print( mot)\n",
    "\n",
    "n=len(mot) \n",
    "i=0\n",
    "for i in range(n,0,-1)  : \n",
    "    if mot[i-1] < mot[i-2]:\n",
    "        breaknote=i\n",
    "    else :\n",
    "        continue\n",
    "        \n",
    "#print(breaknote)        \n",
    "root=mot[:n-i-2]\n",
    "changelettre=mot[n-i-2:]\n",
    "#print(root)\n",
    "#print(changelettre)\n",
    "\n",
    "\n",
    "marknote=root[-1]\n",
    "#print( marknote )\n",
    "changelettre.sort()\n",
    "#print(changelettre)\n",
    "changelettre.append( marknote)\n",
    "labalmark=changelettre.index(marknote)\n",
    "#print( labalmark  )\n",
    "\n",
    "#print(root)\n",
    "changelettre.remove(marknote)\n",
    "#print( changelettre)\n",
    "new_pass=root+changelettre\n",
    "x=\"\".join([str(i) for i in new_pass])\n",
    "print(\"new pass is:  \" + x)\n",
    "\n",
    "\n",
    "\n",
    "\n"
   ]
  },
  {
   "cell_type": "code",
   "execution_count": 122,
   "id": "522eb6e7-37d1-4dd3-a8c2-f833cb6c8fe4",
   "metadata": {},
   "outputs": [
    {
     "name": "stdin",
     "output_type": "stream",
     "text": [
      "Provide letters for conversion without using space:  sdf\n"
     ]
    },
    {
     "name": "stdout",
     "output_type": "stream",
     "text": [
      "Corresponding numbers for the letters given are:  [19, 4, 6]\n",
      "@@@@@\n",
      "possible combin:  {'[19, 4, 6]': 1946, '[19, 6, 4]': 1964, '[4, 19, 6]': 596, '[4, 6, 19]': 479, '[6, 19, 4]': 794, '[6, 4, 19]': 659}\n",
      "new mot est different et il est : sfd\n"
     ]
    }
   ],
   "source": [
    "## method 2  \n",
    "import numpy as np\n",
    "from itertools import permutations \n",
    "import itertools\n",
    "\n",
    "mot_orig = input (\"Provide letters for conversion without using space: \")\n",
    "# Defining an empty list\n",
    "NumList = []\n",
    "# Using for loop iteration on given numbers\n",
    "for let in mot_orig:\n",
    "    numbers = ord (let) - 96\n",
    "    NumList.append (numbers) # appending empty list with numbers\n",
    "# Printing conversion result\n",
    "print (\"Corresponding numbers for the letters given are: \", NumList) \n",
    "\n",
    " \n",
    "num_mot_orig=0\n",
    "for i in NumList:\n",
    "    num_mot_orig+=i*np.power(10, (len(NumList)-NumList.index(i)-1  ) )\n",
    "#print(num_mot_orig)\n",
    "\n",
    "range10l=[]\n",
    "for e in range(len(NumList)):\n",
    "    range10l.append(int(10**(e)))\n",
    "range10l.reverse()\n",
    " \n",
    "\n",
    "print(\"@@@@@\")\n",
    "#print(list(itertools.permutations(NumList, len(NumList))))\n",
    "perm_digi = list(itertools.permutations(NumList, len(NumList)))\n",
    "\n",
    "possible_mot={}\n",
    "for j in perm_digi:\n",
    "    rangl=list(j)\n",
    "    combin=[]\n",
    "    for i1, i2 in zip(range10l, rangl ):\n",
    "        combin.append(i1*i2)\n",
    "    sum_combin=sum(combin)\n",
    "    p = str(rangl)\n",
    "    possible_mot[p]=sum_combin\n",
    "\n",
    "print(\"possible combin:  \" + str( possible_mot))\n",
    "\n",
    "dvalue=list(possible_mot.values())\n",
    "\n",
    "diff = [x - num_mot_orig for x in dvalue] \n",
    "num_mot_new=max(diff)+num_mot_orig\n",
    " \n",
    "if not num_mot_new > num_mot_orig:\n",
    "    mot_new=mot_orig\n",
    "    print(\"new mot est le meme et il est : \"+ mot_new)\n",
    "else:\n",
    "    value = [i for i in possible_mot if possible_mot[i]==num_mot_new]\n",
    "    res = [eval(i) for i in value ]\n",
    " \n",
    "    num_mot_newl=res[0]\n",
    "    mot_newl=[]\n",
    "    for i in num_mot_newl:\n",
    "        mot_newl.append(chr(i+96))\n",
    "    mot_new=\"\".join([str(i) for i in mot_newl])\n",
    "    print(\"new mot est different et il est : \"+ str(mot_new))\n",
    "  "
   ]
  },
  {
   "cell_type": "code",
   "execution_count": 70,
   "id": "e6fa2ab1-f3fa-434c-b569-883c9c2f34b2",
   "metadata": {},
   "outputs": [],
   "source": []
  },
  {
   "cell_type": "code",
   "execution_count": 56,
   "id": "78317e5c-9b54-45a0-841b-a20c51ec8b46",
   "metadata": {},
   "outputs": [],
   "source": []
  },
  {
   "cell_type": "code",
   "execution_count": 58,
   "id": "ed826dcd-4f3a-4169-8a1b-9fd1614a4145",
   "metadata": {},
   "outputs": [],
   "source": []
  },
  {
   "cell_type": "code",
   "execution_count": null,
   "id": "c97efd10-b674-4123-8058-7d0740a812be",
   "metadata": {},
   "outputs": [],
   "source": []
  }
 ],
 "metadata": {
  "kernelspec": {
   "display_name": "Python 3 (ipykernel)",
   "language": "python",
   "name": "python3"
  },
  "language_info": {
   "codemirror_mode": {
    "name": "ipython",
    "version": 3
   },
   "file_extension": ".py",
   "mimetype": "text/x-python",
   "name": "python",
   "nbconvert_exporter": "python",
   "pygments_lexer": "ipython3",
   "version": "3.10.0"
  }
 },
 "nbformat": 4,
 "nbformat_minor": 5
}
