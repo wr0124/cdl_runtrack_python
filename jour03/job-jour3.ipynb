{
 "cells": [
  {
   "cell_type": "markdown",
   "id": "a923321e-92ba-4b12-af4c-9d8c87cf17d6",
   "metadata": {},
   "source": [
    "#### Job 0\n",
    " Créer un programme qui demande à l'utilisateur de renseigner une chaîne de caractères\n",
    "et qui écrit cette chaine de caractère dans un fichier “output.txt”."
   ]
  },
  {
   "cell_type": "code",
   "execution_count": 1,
   "id": "899a3033-7f75-4d86-b65f-b6a9db27fa21",
   "metadata": {},
   "outputs": [
    {
     "name": "stdout",
     "output_type": "stream",
     "text": [
      "entre informamtion \n"
     ]
    },
    {
     "name": "stdin",
     "output_type": "stream",
     "text": [
      " be the force with you\n",
      "merci de renseigner une chaine de caracteres:  be the force with youm\n"
     ]
    }
   ],
   "source": [
    "print(\"entre informamtion \")\n",
    "x=input()\n",
    "with open('output.txt', 'w') as writer:\n",
    "    # Alternatively you could use\n",
    "    writer.writelines(x)\n",
    "\n",
    "content = input(\"merci de renseigner une chaine de caracteres: \")\n",
    "f=open(\"output1.txt\",'w')\n",
    "f.write(content)\n",
    "f.close()\n",
    " "
   ]
  },
  {
   "cell_type": "markdown",
   "id": "a9732292-8283-49de-8c80-6046ece10940",
   "metadata": {},
   "source": [
    "### Job 0.1\n",
    "Créer un programme qui lit le contenu du fichier “output.txt” et qui l’affiche dans le\n",
    "terminal."
   ]
  },
  {
   "cell_type": "code",
   "execution_count": 2,
   "id": "6edad141-6e8d-434a-97bc-b4eb7c1208a6",
   "metadata": {},
   "outputs": [
    {
     "name": "stdout",
     "output_type": "stream",
     "text": [
      "['be the force with you']\n",
      "Process finished with exit code 0\n"
     ]
    }
   ],
   "source": [
    "file1 = open(\"output.txt\",\"r\")\n",
    " \n",
    "print(file1.readlines())\n",
    "print(\"Process finished with exit code 0\")\n",
    "file1.close()"
   ]
  },
  {
   "cell_type": "markdown",
   "id": "370107bc-48c7-4437-bced-69a55873c9c9",
   "metadata": {},
   "source": [
    "Job 01\n",
    "Créer un programme qui parcourt le contenu du fichier “domains.xml” et qui compte le\n",
    "nombre d’extension de domaines qui s’y trouvent (.com, .net, etc …)."
   ]
  },
  {
   "cell_type": "code",
   "execution_count": 3,
   "id": "b91547e2-6d7c-4240-b50d-493fb24b8832",
   "metadata": {},
   "outputs": [
    {
     "name": "stdout",
     "output_type": "stream",
     "text": [
      "['.net\\n', '.com<', '.com<', '.net<', '.org<', '.com<', '.com<', '.com<', '.com<', '.com<', '.net<', '.org<', '.net<', '.net<', '.to<', '.com<', '.net<', '.com<', '.com<', '.net<', '.de<', '.cx<', '.com<', '.com<', '.net<', '.info<', '.com<', '.com<', '.com<', '.net<', '.com<', '.com<', '.com<', '.com<', '.nf<', '.net<', '.com<', '.nf<', '.com<', '.de<', '.in<', '.com<', '.com<', '.com<', '.it<', '.it<', '.com<', '.net<', '.com<', '.com<', '.de<', '.com<', '.com<', '.com<', '.com<', '.com<', '.com<', '.com<', '.org<', '.com<', '.de<', '.info<', '.com<', '.com<', '.com<', '.com<', '.com<', '.com<', '.com<', '.br<', '.com<', '.com<', '.net<', '.com<', '.com<', '.com<', '.de<', '.com<', '.com<', '.tk<', '.com<', '.com<', '.com<', '.in<', '.com<', '.com<', '.net<', '.com<', '.com<', '.com<', '.in<', '.com<', '.com<', '.uk<', '.biz<', '.com<', '.net<', '.org<', '.biz<', '.com<', '.de<', '.net<', '.org<', '.com<', '.com<', '.com<', '.com<', '.eu<', '.info<', '.info<', '.info<', '.com<', '.org<', '.com<', '.net<', '.org<', '.com<', '.com<', '.nf<', '.net<', '.org<', '.com<', '.com<', '.com<', '.com<', '.com<', '.info<', '.de<', '.de<', '.com<', '.net<', '.com<', '.com<', '.cc<', '.com<', '.com<', '.by<', '.net<', '.com<', '.com<', '.com<', '.com<', '.com<', '.com<', '.com<', '.net<', '.com<', '.com<', '.lv<', '.com<', '.com<', '.com<', '.com<', '.org<', '.cc<', '.dj<', '.com<', '.com<', '.com<', '.nu<', '.id<', '.com<', '.nf<', '.nf<', '.nf<', '.com<', '.eu<', '.net<', '.com<', '.com<', '.com<', '.net<', '.com<', '.ws<', '.com<', '.com<', '.info<', '.cx<', '.com<', '.tc<', '.us<', '.us<', '.com<', '.com<', '.com<', '.com<', '.com<', '.net<', '.com<', '.com<', '.de<', '.eu<', '.com<', '.com<', '.com<', '.at<', '.me<', '.net<', '.net<', '.info<', '.de<', '.com<', '.com<', '.com<', '.com<', '.com<', '.com<', '.com<', '.com<', '.com<', '.com<', '.com<', '.com<', '.de<', '.com<', '.com<', '.la<', '.com<', '.net<', '.org<', '.com<', '.de<', '.ru<', '.info<', '.us<', '.com<', '.net<', '.com<', '.com<', '.com<', '.net<', '.org<', '.com<', '.com<', '.eu<', '.com<', '.de<', '.eu<', '.info<', '.net<', '.org<', '.com<', '.net<', '.org<', '.com<', '.com<', '.com<', '.com<', '.de<', '.info<', '.com<', '.de<', '.com<', '.com<', '.com<', '.uk<', '.com<', '.fr<', '.info<', '.com<', '.com<', '.biz<', '.com<', '.net<', '.uk<', '.com<', '.fr<', '.net<', '.com<', '.com<', '.com<', '.com<', '.com<', '.com<', '.com<', '.info<', '.com<', '.at<', '.com<', '.de<', '.com<', '.at<', '.com<', '.me<', '.net<', '.com<', '.com<', '.net<', '.com<', '.com<', '.com<', '.com<', '.de<', '.net<', '.org<', '.org<', '.me<', '.com<', '.info<', '.com<', '.net<', '.net<', '.com<', '.com<', '.fr<', '.net<', '.com<', '.info<', '.com<']\n",
      "le nombre de domaines trouves sont: 309 \n"
     ]
    }
   ],
   "source": [
    "#https://www.geeksforgeeks.org/reading-and-writing-xml-files-in-python/\n",
    "import re\n",
    "f = open(\"domains.xml\", 'r') \n",
    "content_domains = f.read()\n",
    "f.close()\n",
    "\n",
    "##########################\n",
    "resultat=re.findall(r\"\\.[a-z]{2,4}[\\|<|\\n]\",content_domains)\n",
    "print(resultat)\n",
    "print(\"le nombre de domaines trouves sont: {} \" .format(len(resultat))   ) \n",
    "    "
   ]
  },
  {
   "cell_type": "markdown",
   "id": "d854615b-5ac4-4531-9b0b-6fa9eb77a7e3",
   "metadata": {},
   "source": [
    "### job01 Créer un programme qui parcourt le contenu du fichier “data.txt” et qui compte le\n",
    "nombre de mots (sans caractère spéciaux) qui s’y trouvent.\n"
   ]
  },
  {
   "cell_type": "code",
   "execution_count": 5,
   "id": "3dd9bba6-ebca-42b8-9eda-5c7c01593504",
   "metadata": {
    "tags": []
   },
   "outputs": [
    {
     "name": "stdout",
     "output_type": "stream",
     "text": [
      "1150994\n"
     ]
    }
   ],
   "source": [
    "number_of_words = 0\n",
    "import re\n",
    "\n",
    "with open(r'data.txt','r') as file:\n",
    "    data = file.read()\n",
    "    lines = data.split()\n",
    "    for word in lines:\n",
    "        if word[len(word)-1]==\",\" :\n",
    "            word = re.sub(\",\", \"\", word)\n",
    "        if word[len(word)-1]==\".\" :    \n",
    "            word = re.sub(\".\", \"\", word)\n",
    "        string_check= re.compile('[@_!#$%^&*()<>?/\\|}{~:]')\n",
    "        if(string_check.search(word) == None):\n",
    " #           print(word)\n",
    "            number_of_words += 1\n",
    "             \n",
    "        \n",
    "print(number_of_words) \n"
   ]
  },
  {
   "cell_type": "code",
   "execution_count": 6,
   "id": "90bb901c-5ee9-40e7-83d6-c742923e01cb",
   "metadata": {},
   "outputs": [
    {
     "name": "stdout",
     "output_type": "stream",
     "text": [
      "<class 'str'>\n",
      "1175248\n"
     ]
    }
   ],
   "source": [
    "f = open(\"data.txt\",\"r\")\n",
    "content_data = f.read()\n",
    "f.close()\n",
    "\n",
    "print(type(content_data))\n",
    "\n",
    " \n",
    "resultat=re.findall(r\"\\w+\",content_data)\n",
    "print(len(resultat))\n"
   ]
  },
  {
   "cell_type": "markdown",
   "id": "e17db65f-240b-481f-9e28-9dfd6144f8ea",
   "metadata": {},
   "source": [
    "### Job 02 \n",
    "Créer un programme qui demande à l’utilisateur de renseigner un nombre entier. Le\n",
    "programme devra alors parcourir le contenu du fichier “data.txt” compter le nombre de\n",
    "mots de la taille renseignée qui s’y trouvent."
   ]
  },
  {
   "cell_type": "code",
   "execution_count": 8,
   "id": "acad0832-ce9c-4e0f-aaf4-1fe79003dac8",
   "metadata": {},
   "outputs": [
    {
     "name": "stdout",
     "output_type": "stream",
     "text": [
      "Entre un nombre entier\n"
     ]
    },
    {
     "name": "stdin",
     "output_type": "stream",
     "text": [
      " 12\n"
     ]
    },
    {
     "name": "stdout",
     "output_type": "stream",
     "text": [
      "Lorem\n",
      "ipsum\n",
      "dolor\n",
      "sit\n",
      "amet\n",
      "consectetur\n",
      "adipiscing\n",
      "elit\n",
      "De\n",
      "quibus\n",
      "cupio\n"
     ]
    }
   ],
   "source": [
    "print(\"Entre un nombre entier\")\n",
    "x=input()\n",
    "number_of_words=0\n",
    "with open(r'data.txt','r') as file:\n",
    "    data = file.read()\n",
    "    lines = data.split()\n",
    "    for word in lines:\n",
    "        \n",
    "        number_of_words += 1\n",
    "        if number_of_words < int(x) :\n",
    "            if word[len(word)-1].isalpha():\n",
    "                print(word)\n",
    "            else :\n",
    "                print(word[:-1])\n",
    "        else:\n",
    "            break\n",
    "            \n",
    "        \n",
    "\n"
   ]
  },
  {
   "cell_type": "markdown",
   "id": "e6ff2fdf-b88b-416f-acfa-79583148da55",
   "metadata": {},
   "source": [
    "### Job 03\n",
    "Écrire un programme qui parcourt le fichier “data.txt” et qui compte le nombre\n",
    "de occurrence de chaque lettre (Minuscules et Capitales comptent pour la même lettre).\n",
    "A l’aide du module MatPlotLib, générer un histogramme representant le pourcentage\n",
    "d’apparition de chaque lettre.\n"
   ]
  },
  {
   "cell_type": "code",
   "execution_count": 9,
   "id": "9d5fd518-e226-4c52-8b03-80eb79cb070d",
   "metadata": {},
   "outputs": [
    {
     "data": {
      "image/png": "[encoded data removed]",
      "text/plain": [
       "<Figure size 1800x800 with 1 Axes>"
      ]
     },
     "metadata": {},
     "output_type": "display_data"
    }
   ],
   "source": [
    "\n",
    "freqs = {}\n",
    "\n",
    "with open(r'data.txt','r') as file:\n",
    "\n",
    "    data = file.read()\n",
    "    lines = data.split()\n",
    "    for word in lines:\n",
    "        for char in word:\n",
    "            char=char.lower()\n",
    "            if char.isalpha():\n",
    "                if char in freqs:\n",
    "                    freqs[char] += 1\n",
    "                else:\n",
    "                    freqs[char] = 1\n",
    "                         \n",
    "   \n",
    " \n",
    "import matplotlib.pylab as plt\n",
    "lists = sorted(freqs.items()) # sorted by key, return a list of tuples\n",
    "\n",
    "x, y = zip(*lists) # unpack a list of pairs into two tuples\n",
    "plt.figure(figsize=(18,8),edgecolor='blue')\n",
    "plt.plot(x, y)\n",
    "plt.show()\n",
    "\n",
    "\n",
    " \n",
    "    \n",
    "    \n",
    "    "
   ]
  },
  {
   "cell_type": "markdown",
   "id": "91974add-275b-46fb-9ec5-f3dbe658a7da",
   "metadata": {},
   "source": [
    "### Job 05\n",
    "Écrire un programme qui parcourt le fichier “data.txt” et qui compte le nombre de mots\n",
    "de chaque taille. A l’aide du module MatPlotLib, générer un histogramme représentant\n",
    "le pourcentage d’apparition de chaque taille de mot."
   ]
  },
  {
   "cell_type": "code",
   "execution_count": 10,
   "id": "7d0bdfa3-73c0-4813-9102-051dc8270ea4",
   "metadata": {},
   "outputs": [
    {
     "name": "stdout",
     "output_type": "stream",
     "text": [
      "52133\n"
     ]
    },
    {
     "data": {
      "text/plain": [
       "(array([ 11434., 299400., 345912., 259649.,  90465., 118473.,  35029.,\n",
       "         10320.,   2150.,    529.]),\n",
       " array([ 0. ,  1.8,  3.6,  5.4,  7.2,  9. , 10.8, 12.6, 14.4, 16.2, 18. ]),\n",
       " <BarContainer object of 10 artists>)"
      ]
     },
     "execution_count": 10,
     "metadata": {},
     "output_type": "execute_result"
    },
    {
     "data": {
      "image/png": "[encoded data removed]",
      "text/plain": [
       "<Figure size 640x480 with 1 Axes>"
      ]
     },
     "metadata": {},
     "output_type": "display_data"
    }
   ],
   "source": [
    "# Create an empty dictionary\n",
    "mot_taille = []\n",
    " \n",
    "with open(r'data.txt','r') as file:\n",
    "    data = file.read()\n",
    "    lines = data.split()\n",
    "    for word in lines:\n",
    "        if word[len(word)-1].isalpha():\n",
    "            mot_taille.append(len(word)) \n",
    "        else:\n",
    "            mot_taille.append(len(word)-1) \n",
    "        \n",
    "print(mot_taille.count(10)) \n",
    "import matplotlib.pylab as plt\n",
    "plt.hist(mot_taille)\n",
    "\n",
    " \n"
   ]
  },
  {
   "cell_type": "code",
   "execution_count": 4,
   "id": "0ef6811b-dece-413e-92d2-b71960d6d923",
   "metadata": {},
   "outputs": [
    {
     "name": "stdout",
     "output_type": "stream",
     "text": [
      "5\n"
     ]
    }
   ],
   "source": [
    "print( mot_taille[0] )"
   ]
  },
  {
   "cell_type": "code",
   "execution_count": 12,
   "id": "b5d2177c-4b56-47b2-b869-3dc262173e02",
   "metadata": {},
   "outputs": [],
   "source": [
    "f = open(\"mot_taille.txt\",\"w\")\n",
    "f.write(str(mot_taille) )\n",
    "f.close()"
   ]
  },
  {
   "cell_type": "markdown",
   "id": "30e947f9-f85e-4610-906c-cfc313f69084",
   "metadata": {},
   "source": [
    "### Job 08\n",
    "Écrire un programme qui parcourt le fichier “data.txt” et qui compte le nombre\n",
    "d'occurrence de chaque lettre (Minuscules et Capitales comptent pour la même lettre)\n",
    "en début de mot. A l’aide du module MatPlotLib, générer un histogramme représentant\n",
    "le pourcentage de présence de chaque lettre en début de mot."
   ]
  },
  {
   "cell_type": "code",
   "execution_count": 1,
   "id": "d6e839f2-3a96-447f-93e8-f115083b0700",
   "metadata": {},
   "outputs": [
    {
     "data": {
      "image/png": "[encoded data removed]",
      "text/plain": [
       "<Figure size 640x480 with 1 Axes>"
      ]
     },
     "metadata": {},
     "output_type": "display_data"
    }
   ],
   "source": [
    "freqs = {}\n",
    "\n",
    "with open(r'data.txt','r') as file:\n",
    "    data = file.read()\n",
    "    lines = data.split()\n",
    "    for word in lines:\n",
    "        char=word[0]        \n",
    "        char=char.lower()\n",
    "        if char.isalpha():\n",
    "            if char in freqs:\n",
    "                freqs[char] += 1\n",
    "            else:\n",
    "                freqs[char] = 1\n",
    "\n",
    "            \n",
    "import matplotlib.pylab as plt\n",
    "lists = sorted(freqs.items()) # sorted by key, return a list of tuples\n",
    "\n",
    "x, y = zip(*lists) # unpack a list of pairs into two tuples\n",
    "\n",
    "plt.plot(x, y)\n",
    "plt.show()\n",
    "\n",
    "                \n",
    "f = open(\"premiere_char_mot.csv\",\"w\")\n",
    "f.write(str(freqs) )\n",
    "f.close()"
   ]
  },
  {
   "cell_type": "markdown",
   "id": "54c5bdd4-4022-4e3c-a553-ddb0e0edff7f",
   "metadata": {},
   "source": [
    "### Job 13\n",
    "Écrire un programme qui parcourt le fichier “data.txt” et qui, pour chaque lettre, compte\n",
    "le nombre d'occurrence de la lettre suivante. Générer, ensuite, un graphique de courbes\n",
    "superposées, une courbe par lettre, montrant le pourcentage d’apparition de chaque\n",
    "lettre la suivant."
   ]
  },
  {
   "cell_type": "markdown",
   "id": "2bec939d-719b-481b-b4ef-50b634eb9645",
   "metadata": {},
   "source": [
    "import re\n",
    "mot_suiv={}\n",
    "f = open(\"data.txt\",\"r\")\n",
    "content_data = f.read()\n",
    "f.close()\n",
    "print(type( content_data))\n",
    " \n",
    "resultat=re.findall(r\"\\w+\",content_data)\n",
    "print(resultat[0])"
   ]
  },
  {
   "cell_type": "code",
   "execution_count": 5,
   "id": "ced4f6d4-64ae-4d7c-8729-c4e7aa5adf54",
   "metadata": {},
   "outputs": [
    {
     "name": "stdout",
     "output_type": "stream",
     "text": [
      "['a', 'b', 'c', 'd', 'e', 'f', 'g', 'h', 'i', 'j', 'k', 'l', 'm', 'n', 'o', 'p', 'q', 'r', 's', 't', 'u', 'v', 'w', 'x', 'y', 'z']\n"
     ]
    },
    {
     "data": {
      "text/plain": [
       "2"
      ]
     },
     "execution_count": 5,
     "metadata": {},
     "output_type": "execute_result"
    }
   ],
   "source": [
    "mylistofnum = range(97, 123)\n",
    "listalphabet = list(map(chr,mylistofnum))\n",
    "print(listalphabet )\n",
    "listalphabet.index('c')"
   ]
  },
  {
   "cell_type": "code",
   "execution_count": 6,
   "id": "4a903bd2-190e-4f7a-b369-33046c2af971",
   "metadata": {},
   "outputs": [],
   "source": [
    "def char_position(letter):\n",
    "    return ord(letter) - 97\n",
    "\n",
    "def pos_to_char(pos):\n",
    "    return chr(pos + 97)"
   ]
  },
  {
   "cell_type": "code",
   "execution_count": 12,
   "id": "ef825591-fa2b-4906-b6e4-701e0b676d9a",
   "metadata": {},
   "outputs": [
    {
     "data": {
      "text/html": [
       "<div>\n",
       "<style scoped>\n",
       "    .dataframe tbody tr th:only-of-type {\n",
       "        vertical-align: middle;\n",
       "    }\n",
       "\n",
       "    .dataframe tbody tr th {\n",
       "        vertical-align: top;\n",
       "    }\n",
       "\n",
       "    .dataframe thead th {\n",
       "        text-align: right;\n",
       "    }\n",
       "</style>\n",
       "<table border=\"1\" class=\"dataframe\">\n",
       "  <thead>\n",
       "    <tr style=\"text-align: right;\">\n",
       "      <th></th>\n",
       "      <th>a</th>\n",
       "      <th>b</th>\n",
       "      <th>c</th>\n",
       "      <th>d</th>\n",
       "      <th>e</th>\n",
       "      <th>f</th>\n",
       "      <th>g</th>\n",
       "      <th>h</th>\n",
       "      <th>i</th>\n",
       "      <th>j</th>\n",
       "      <th>...</th>\n",
       "      <th>q</th>\n",
       "      <th>r</th>\n",
       "      <th>s</th>\n",
       "      <th>t</th>\n",
       "      <th>u</th>\n",
       "      <th>v</th>\n",
       "      <th>w</th>\n",
       "      <th>x</th>\n",
       "      <th>y</th>\n",
       "      <th>z</th>\n",
       "    </tr>\n",
       "  </thead>\n",
       "  <tbody>\n",
       "    <tr>\n",
       "      <th>a</th>\n",
       "      <td>0</td>\n",
       "      <td>8346</td>\n",
       "      <td>15082</td>\n",
       "      <td>15233</td>\n",
       "      <td>25452</td>\n",
       "      <td>8433</td>\n",
       "      <td>6085</td>\n",
       "      <td>10756</td>\n",
       "      <td>45498</td>\n",
       "      <td>0</td>\n",
       "      <td>...</td>\n",
       "      <td>80</td>\n",
       "      <td>47872</td>\n",
       "      <td>17284</td>\n",
       "      <td>81871</td>\n",
       "      <td>53513</td>\n",
       "      <td>5945</td>\n",
       "      <td>0</td>\n",
       "      <td>443</td>\n",
       "      <td>0</td>\n",
       "      <td>0</td>\n",
       "    </tr>\n",
       "    <tr>\n",
       "      <th>b</th>\n",
       "      <td>16148</td>\n",
       "      <td>0</td>\n",
       "      <td>0</td>\n",
       "      <td>0</td>\n",
       "      <td>10305</td>\n",
       "      <td>0</td>\n",
       "      <td>0</td>\n",
       "      <td>0</td>\n",
       "      <td>18981</td>\n",
       "      <td>0</td>\n",
       "      <td>...</td>\n",
       "      <td>0</td>\n",
       "      <td>5512</td>\n",
       "      <td>0</td>\n",
       "      <td>0</td>\n",
       "      <td>3825</td>\n",
       "      <td>0</td>\n",
       "      <td>0</td>\n",
       "      <td>0</td>\n",
       "      <td>0</td>\n",
       "      <td>0</td>\n",
       "    </tr>\n",
       "    <tr>\n",
       "      <th>c</th>\n",
       "      <td>15967</td>\n",
       "      <td>0</td>\n",
       "      <td>3844</td>\n",
       "      <td>394</td>\n",
       "      <td>30666</td>\n",
       "      <td>0</td>\n",
       "      <td>0</td>\n",
       "      <td>0</td>\n",
       "      <td>46897</td>\n",
       "      <td>0</td>\n",
       "      <td>...</td>\n",
       "      <td>0</td>\n",
       "      <td>2516</td>\n",
       "      <td>12085</td>\n",
       "      <td>0</td>\n",
       "      <td>7334</td>\n",
       "      <td>0</td>\n",
       "      <td>0</td>\n",
       "      <td>546</td>\n",
       "      <td>152</td>\n",
       "      <td>0</td>\n",
       "    </tr>\n",
       "    <tr>\n",
       "      <th>d</th>\n",
       "      <td>20430</td>\n",
       "      <td>285</td>\n",
       "      <td>0</td>\n",
       "      <td>1905</td>\n",
       "      <td>18720</td>\n",
       "      <td>0</td>\n",
       "      <td>0</td>\n",
       "      <td>0</td>\n",
       "      <td>45619</td>\n",
       "      <td>0</td>\n",
       "      <td>...</td>\n",
       "      <td>0</td>\n",
       "      <td>2056</td>\n",
       "      <td>1151</td>\n",
       "      <td>0</td>\n",
       "      <td>17496</td>\n",
       "      <td>0</td>\n",
       "      <td>0</td>\n",
       "      <td>0</td>\n",
       "      <td>1</td>\n",
       "      <td>0</td>\n",
       "    </tr>\n",
       "    <tr>\n",
       "      <th>e</th>\n",
       "      <td>48446</td>\n",
       "      <td>16954</td>\n",
       "      <td>27770</td>\n",
       "      <td>54995</td>\n",
       "      <td>218</td>\n",
       "      <td>9588</td>\n",
       "      <td>11251</td>\n",
       "      <td>3498</td>\n",
       "      <td>15596</td>\n",
       "      <td>0</td>\n",
       "      <td>...</td>\n",
       "      <td>0</td>\n",
       "      <td>85423</td>\n",
       "      <td>65536</td>\n",
       "      <td>87738</td>\n",
       "      <td>32075</td>\n",
       "      <td>29840</td>\n",
       "      <td>0</td>\n",
       "      <td>1964</td>\n",
       "      <td>0</td>\n",
       "      <td>1005</td>\n",
       "    </tr>\n",
       "  </tbody>\n",
       "</table>\n",
       "<p>5 rows × 26 columns</p>\n",
       "</div>"
      ],
      "text/plain": [
       "       a      b      c      d      e     f      g      h      i  j  ...   q  \\\n",
       "a      0   8346  15082  15233  25452  8433   6085  10756  45498  0  ...  80   \n",
       "b  16148      0      0      0  10305     0      0      0  18981  0  ...   0   \n",
       "c  15967      0   3844    394  30666     0      0      0  46897  0  ...   0   \n",
       "d  20430    285      0   1905  18720     0      0      0  45619  0  ...   0   \n",
       "e  48446  16954  27770  54995    218  9588  11251   3498  15596  0  ...   0   \n",
       "\n",
       "       r      s      t      u      v  w     x    y     z  \n",
       "a  47872  17284  81871  53513   5945  0   443    0     0  \n",
       "b   5512      0      0   3825      0  0     0    0     0  \n",
       "c   2516  12085      0   7334      0  0   546  152     0  \n",
       "d   2056   1151      0  17496      0  0     0    1     0  \n",
       "e  85423  65536  87738  32075  29840  0  1964    0  1005  \n",
       "\n",
       "[5 rows x 26 columns]"
      ]
     },
     "execution_count": 12,
     "metadata": {},
     "output_type": "execute_result"
    }
   ],
   "source": [
    "import pandas as pd\n",
    "data=0\n",
    "df=pd.DataFrame(data, index=listalphabet, columns=listalphabet )\n",
    "#print(df.head())\n",
    "for mot_index in range(len(resultat)):\n",
    "    mot=resultat[mot_index]\n",
    "    for i in range(len(mot)):\n",
    "        if i != len(mot)-1 :\n",
    "            front=mot[i].lower()\n",
    "            back=mot[i+1].lower()\n",
    "            if ((front in listalphabet) & (back in listalphabet)):\n",
    "                df.loc[back, front]+=1\n",
    "df.head()            "
   ]
  },
  {
   "cell_type": "code",
   "execution_count": 24,
   "id": "40f7beae-0d24-4045-8f9f-841f1a7e0ef8",
   "metadata": {},
   "outputs": [],
   "source": [
    "df.head()\n",
    "\n",
    "df.to_csv(r'pandas_enchainement_ettres.csv',  sep=' ',index_label='Index_name')\n"
   ]
  },
  {
   "cell_type": "code",
   "execution_count": 25,
   "id": "4631ecdb-2179-4d55-bff1-aa6384d18eab",
   "metadata": {},
   "outputs": [
    {
     "data": {
      "text/html": [
       "<div>\n",
       "<style scoped>\n",
       "    .dataframe tbody tr th:only-of-type {\n",
       "        vertical-align: middle;\n",
       "    }\n",
       "\n",
       "    .dataframe tbody tr th {\n",
       "        vertical-align: top;\n",
       "    }\n",
       "\n",
       "    .dataframe thead th {\n",
       "        text-align: right;\n",
       "    }\n",
       "</style>\n",
       "<table border=\"1\" class=\"dataframe\">\n",
       "  <thead>\n",
       "    <tr style=\"text-align: right;\">\n",
       "      <th></th>\n",
       "      <th>Index_name</th>\n",
       "      <th>a</th>\n",
       "      <th>b</th>\n",
       "      <th>c</th>\n",
       "      <th>d</th>\n",
       "      <th>e</th>\n",
       "      <th>f</th>\n",
       "      <th>g</th>\n",
       "      <th>h</th>\n",
       "      <th>i</th>\n",
       "      <th>...</th>\n",
       "      <th>q</th>\n",
       "      <th>r</th>\n",
       "      <th>s</th>\n",
       "      <th>t</th>\n",
       "      <th>u</th>\n",
       "      <th>v</th>\n",
       "      <th>w</th>\n",
       "      <th>x</th>\n",
       "      <th>y</th>\n",
       "      <th>z</th>\n",
       "    </tr>\n",
       "  </thead>\n",
       "  <tbody>\n",
       "    <tr>\n",
       "      <th>0</th>\n",
       "      <td>a</td>\n",
       "      <td>0</td>\n",
       "      <td>8346</td>\n",
       "      <td>15082</td>\n",
       "      <td>15233</td>\n",
       "      <td>25452</td>\n",
       "      <td>8433</td>\n",
       "      <td>6085</td>\n",
       "      <td>10756</td>\n",
       "      <td>45498</td>\n",
       "      <td>...</td>\n",
       "      <td>80</td>\n",
       "      <td>47872</td>\n",
       "      <td>17284</td>\n",
       "      <td>81871</td>\n",
       "      <td>53513</td>\n",
       "      <td>5945</td>\n",
       "      <td>0</td>\n",
       "      <td>443</td>\n",
       "      <td>0</td>\n",
       "      <td>0</td>\n",
       "    </tr>\n",
       "    <tr>\n",
       "      <th>1</th>\n",
       "      <td>b</td>\n",
       "      <td>16148</td>\n",
       "      <td>0</td>\n",
       "      <td>0</td>\n",
       "      <td>0</td>\n",
       "      <td>10305</td>\n",
       "      <td>0</td>\n",
       "      <td>0</td>\n",
       "      <td>0</td>\n",
       "      <td>18981</td>\n",
       "      <td>...</td>\n",
       "      <td>0</td>\n",
       "      <td>5512</td>\n",
       "      <td>0</td>\n",
       "      <td>0</td>\n",
       "      <td>3825</td>\n",
       "      <td>0</td>\n",
       "      <td>0</td>\n",
       "      <td>0</td>\n",
       "      <td>0</td>\n",
       "      <td>0</td>\n",
       "    </tr>\n",
       "    <tr>\n",
       "      <th>2</th>\n",
       "      <td>c</td>\n",
       "      <td>15967</td>\n",
       "      <td>0</td>\n",
       "      <td>3844</td>\n",
       "      <td>394</td>\n",
       "      <td>30666</td>\n",
       "      <td>0</td>\n",
       "      <td>0</td>\n",
       "      <td>0</td>\n",
       "      <td>46897</td>\n",
       "      <td>...</td>\n",
       "      <td>0</td>\n",
       "      <td>2516</td>\n",
       "      <td>12085</td>\n",
       "      <td>0</td>\n",
       "      <td>7334</td>\n",
       "      <td>0</td>\n",
       "      <td>0</td>\n",
       "      <td>546</td>\n",
       "      <td>152</td>\n",
       "      <td>0</td>\n",
       "    </tr>\n",
       "    <tr>\n",
       "      <th>3</th>\n",
       "      <td>d</td>\n",
       "      <td>20430</td>\n",
       "      <td>285</td>\n",
       "      <td>0</td>\n",
       "      <td>1905</td>\n",
       "      <td>18720</td>\n",
       "      <td>0</td>\n",
       "      <td>0</td>\n",
       "      <td>0</td>\n",
       "      <td>45619</td>\n",
       "      <td>...</td>\n",
       "      <td>0</td>\n",
       "      <td>2056</td>\n",
       "      <td>1151</td>\n",
       "      <td>0</td>\n",
       "      <td>17496</td>\n",
       "      <td>0</td>\n",
       "      <td>0</td>\n",
       "      <td>0</td>\n",
       "      <td>1</td>\n",
       "      <td>0</td>\n",
       "    </tr>\n",
       "    <tr>\n",
       "      <th>4</th>\n",
       "      <td>e</td>\n",
       "      <td>48446</td>\n",
       "      <td>16954</td>\n",
       "      <td>27770</td>\n",
       "      <td>54995</td>\n",
       "      <td>218</td>\n",
       "      <td>9588</td>\n",
       "      <td>11251</td>\n",
       "      <td>3498</td>\n",
       "      <td>15596</td>\n",
       "      <td>...</td>\n",
       "      <td>0</td>\n",
       "      <td>85423</td>\n",
       "      <td>65536</td>\n",
       "      <td>87738</td>\n",
       "      <td>32075</td>\n",
       "      <td>29840</td>\n",
       "      <td>0</td>\n",
       "      <td>1964</td>\n",
       "      <td>0</td>\n",
       "      <td>1005</td>\n",
       "    </tr>\n",
       "  </tbody>\n",
       "</table>\n",
       "<p>5 rows × 27 columns</p>\n",
       "</div>"
      ],
      "text/plain": [
       "  Index_name      a      b      c      d      e     f      g      h      i  \\\n",
       "0          a      0   8346  15082  15233  25452  8433   6085  10756  45498   \n",
       "1          b  16148      0      0      0  10305     0      0      0  18981   \n",
       "2          c  15967      0   3844    394  30666     0      0      0  46897   \n",
       "3          d  20430    285      0   1905  18720     0      0      0  45619   \n",
       "4          e  48446  16954  27770  54995    218  9588  11251   3498  15596   \n",
       "\n",
       "   ...   q      r      s      t      u      v  w     x    y     z  \n",
       "0  ...  80  47872  17284  81871  53513   5945  0   443    0     0  \n",
       "1  ...   0   5512      0      0   3825      0  0     0    0     0  \n",
       "2  ...   0   2516  12085      0   7334      0  0   546  152     0  \n",
       "3  ...   0   2056   1151      0  17496      0  0     0    1     0  \n",
       "4  ...   0  85423  65536  87738  32075  29840  0  1964    0  1005  \n",
       "\n",
       "[5 rows x 27 columns]"
      ]
     },
     "execution_count": 25,
     "metadata": {},
     "output_type": "execute_result"
    }
   ],
   "source": [
    "df1=pd.read_csv(\"pandas_enchainement_ettres.csv\", sep=' ')  \n",
    "df1.head()"
   ]
  },
  {
   "cell_type": "markdown",
   "id": "8f5849c6-edc0-487d-9b95-16810db23836",
   "metadata": {},
   "source": [
    "### Job 21 \n",
    "Créer un générateur de mots en vous appuyant sur les statistiques précédemment\n",
    "calculées (longueur des mots, première lettre des mots, enchaînement de lettres)."
   ]
  },
  {
   "cell_type": "code",
   "execution_count": 8,
   "id": "db8b1d47-8538-4c7a-ae24-c2889a57a4ba",
   "metadata": {},
   "outputs": [
    {
     "name": "stdout",
     "output_type": "stream",
     "text": [
      "[[0, 90], [1, 11344], [2, 139410], [3, 159990], [4, 179683], [5, 166229], [6, 148729], [7, 110920], [8, 90465], [9, 66340], [10, 52133], [11, 21507], [12, 13522], [13, 7791], [14, 2529], [15, 1706], [16, 444], [17, 260], [18, 269]]\n"
     ]
    }
   ],
   "source": [
    "sta=[[x,mot_taille.count(x)] for x in set(mot_taille)]\n",
    "print(sta)"
   ]
  },
  {
   "cell_type": "code",
   "execution_count": 10,
   "id": "18aeb04a-57ab-4a91-9b19-e8fda4363750",
   "metadata": {},
   "outputs": [
    {
     "name": "stdout",
     "output_type": "stream",
     "text": [
      "{0: 7.670273683887568e-05, 1: 0.009667953852224508, 2: 0.11881253936341842, 3: 0.13635189852057467, 4: 0.1531353095935522, 5: 0.14166910268877184, 6: 0.12675468163676823, 7: 0.09453186189075655, 8: 0.0770990343125432, 9: 0.056538439576566804, 10: 0.04443048644023451, 11: 0.01832939734659666, 12: 0.011524160083725298, 13: 0.0066399002523520045, 14: 0.0021553469051724065, 15: 0.0014539429894124655, 16: 0.00037840016840512, 17: 0.0002215856842011964, 18: 0.00022925595788508396}\n"
     ]
    }
   ],
   "source": [
    "prob={}\n",
    "for i in range(len(sta)):\n",
    "    prob[sta[i][0]]=sta[i][1]/ len( mot_taille)\n",
    "print(prob)"
   ]
  },
  {
   "cell_type": "code",
   "execution_count": 90,
   "id": "7ccc5d03-86b4-4ca8-96df-11b9460b54fe",
   "metadata": {},
   "outputs": [
    {
     "name": "stdout",
     "output_type": "stream",
     "text": [
      "{1: 10, 2: 119, 3: 136, 4: 153, 5: 142, 6: 127, 7: 95, 8: 77, 9: 57, 10: 44, 11: 18, 12: 12, 13: 7, 14: 2, 15: 1}\n",
      "113120\n",
      "1000\n"
     ]
    }
   ],
   "source": [
    "mot_quan=1000\n",
    "mot_list={}\n",
    "total_char=0\n",
    "for key in prob:\n",
    "    if (key!=0) & (round( prob[key]*mot_quan )!=0 ):\n",
    "        mot_list[key]=round( prob[key]*mot_quan )\n",
    "        total_char+=mot_list[key]*round( prob[key]*mot_quan )\n",
    "print(mot_list)\n",
    "print( total_char) \n",
    "print(sum(mot_list.values()))"
   ]
  },
  {
   "cell_type": "code",
   "execution_count": 23,
   "id": "a4e0e8f2-8881-4ffc-8471-3a8081a542fe",
   "metadata": {},
   "outputs": [],
   "source": [
    "## count premiere lettre des mots freqs\n",
    "freqs = {}\n",
    "\n",
    "with open(r'data.txt','r') as file:\n",
    "    data = file.read()\n",
    "    lines = data.split()\n",
    "    for word in lines:\n",
    "        char=word[0]        \n",
    "        char=char.lower()\n",
    "        if char.isalpha():\n",
    "            if char in freqs:\n",
    "                freqs[char] += 1\n",
    "            else:\n",
    "                freqs[char] = 1"
   ]
  },
  {
   "cell_type": "code",
   "execution_count": 71,
   "id": "1e70e3aa-2220-47b6-9715-78696e3c9dfb",
   "metadata": {},
   "outputs": [
    {
     "name": "stdout",
     "output_type": "stream",
     "text": [
      "1001\n",
      "1000\n",
      "{'l': 17, 'i': 96, 'd': 54, 's': 90, 'a': 88, 'c': 52, 'e': 115, 'q': 81, 't': 34, 'n': 69, 'm': 38, 'h': 26, 'u': 22, 'p': 68, 'r': 26, 'v': 56, 'f': 22, 'b': 14, 'g': 7, 'o': 24, 'z': 1}\n"
     ]
    }
   ],
   "source": [
    "prob_dict = {}\n",
    "for k, v in freqs.items():\n",
    "    prob_dict[k] = v / sum(freqs.values())\n",
    "#print(prob_dict)\n",
    "\n",
    "premier_char_list={}\n",
    "for key in prob_dict:\n",
    "    if (round( prob_dict[key]*mot_quan )!=0 ):\n",
    "        premier_char_list[key]=round( prob_dict[key]*mot_quan )\n",
    "print( sum(premier_char_list.values() ) )\n",
    "\n",
    "\n",
    "if sum(premier_char_list.values() )!= mot_quan :\n",
    "    max_val=max( premier_char_list.values()) \n",
    "    key = list(filter(lambda x: premier_char_list[x] == max_val, premier_char_list))[0]\n",
    "    premier_char_list[key]=max_val-( sum(premier_char_list.values() ) - mot_quan  )\n",
    "print( sum(premier_char_list.values() ) )\n",
    "\n",
    "print(premier_char_list)"
   ]
  },
  {
   "cell_type": "code",
   "execution_count": 89,
   "id": "8042e677-178d-4da3-b63c-c66f9b305ece",
   "metadata": {},
   "outputs": [
    {
     "name": "stdout",
     "output_type": "stream",
     "text": [
      "1000\n"
     ]
    }
   ],
   "source": [
    "premier_char_pool=[]\n",
    "for key, value in premier_char_list.items():\n",
    "    premier_char_pool.append([key]*value)\n",
    "flat_premier_char_pool = [item for sublist in premier_char_pool for item in sublist]\n",
    "print( len(flat_premier_char_pool ) ) \n"
   ]
  },
  {
   "cell_type": "code",
   "execution_count": 118,
   "id": "0d156ed0-1bea-4140-a1a8-db2f64022258",
   "metadata": {},
   "outputs": [
    {
     "name": "stdout",
     "output_type": "stream",
     "text": [
      "[[2, 2], [2, 2], [2, 2], [2, 2], [2, 2], [2, 2], [2, 2], [2, 2], [2, 2], [2, 2], [2, 2], [2, 2], [2, 2], [2, 2], [2, 2], [2, 2], [2, 2], [2, 2], [2, 2], [2, 2], [2, 2], [2, 2], [2, 2], [2, 2], [2, 2], [2, 2], [2, 2], [2, 2], [2, 2], [2, 2], [2, 2], [2, 2], [2, 2], [2, 2], [2, 2], [2, 2], [2, 2], [2, 2], [2, 2], [2, 2], [2, 2], [2, 2], [2, 2], [2, 2], [2, 2], [2, 2], [2, 2], [2, 2], [2, 2], [2, 2], [2, 2], [2, 2], [2, 2], [2, 2], [2, 2], [2, 2], [2, 2], [2, 2], [2, 2], [2, 2], [2, 2], [2, 2], [2, 2], [2, 2], [2, 2], [2, 2], [2, 2], [2, 2], [2, 2], [2, 2], [2, 2], [2, 2], [2, 2], [2, 2], [2, 2], [2, 2], [2, 2], [2, 2], [2, 2], [2, 2], [2, 2], [2, 2], [2, 2], [2, 2], [2, 2], [2, 2], [2, 2], [2, 2], [2, 2], [2, 2], [2, 2], [2, 2], [2, 2], [2, 2], [2, 2], [2, 2], [2, 2], [2, 2], [2, 2], [2, 2], [2, 2], [2, 2], [2, 2], [2, 2], [2, 2], [2, 2], [2, 2], [2, 2], [2, 2], [2, 2], [2, 2], [2, 2], [2, 2], [2, 2], [2, 2], [2, 2], [2, 2], [2, 2], [2, 2]]\n",
      "\n",
      "1000\n",
      "[3, 3, 3]\n"
     ]
    }
   ],
   "source": [
    "mot_pool={}\n",
    "for key,value in mot_list.items():\n",
    "    form=[key]*key\n",
    "    mot_pool[key]=[form]*value \n",
    "print(mot_pool[2])\n",
    "print()\n",
    "mot_taill_pool=[]\n",
    "for key, value in mot_pool.items():\n",
    "    nestl=mot_pool[key]\n",
    "    for i in nestl:\n",
    "        mot_taill_pool.append(i )\n",
    "    \n",
    "print(len( mot_taill_pool) )\n",
    "print(  mot_taill_pool[212]  )"
   ]
  },
  {
   "cell_type": "code",
   "execution_count": 210,
   "id": "b1581256-5c12-4e4a-8c7c-215306e11130",
   "metadata": {},
   "outputs": [
    {
     "name": "stdout",
     "output_type": "stream",
     "text": [
      "1000\n"
     ]
    }
   ],
   "source": [
    "x = list( range(0,len(mot_taill_pool)) )\n",
    "from random import shuffle\n",
    "shuffle(x)\n",
    " \n",
    "print(len(mot_taill_pool))"
   ]
  },
  {
   "cell_type": "code",
   "execution_count": 215,
   "id": "2fb2bff9-0b15-40b5-85c5-ce496021c487",
   "metadata": {},
   "outputs": [
    {
     "name": "stdout",
     "output_type": "stream",
     "text": [
      "[['n', 2], ['n', 2], ['e', 4, 4, 4], ['q', 8, 8, 8, 8, 8, 8, 8], ['e', 4, 4, 4], ['s', 7, 7, 7, 7, 7, 7], ['q', 9, 9, 9, 9, 9, 9, 9, 9], ['e', 4, 4, 4], ['d', 6, 6, 6, 6, 6], ['a', 5, 5, 5, 5], ['d', 6, 6, 6, 6, 6], ['p', 10, 10, 10, 10, 10, 10, 10, 10, 10], ['s', 7, 7, 7, 7, 7, 7], ['e', 12, 12, 12, 12, 12, 12, 12, 12, 12, 12, 12], ['e', 4, 4, 4], ['q', 8, 8, 8, 8, 8, 8, 8], ['d', 6, 6, 6, 6, 6], ['n', 2], ['e', 4, 4, 4], ['a', 5, 5, 5, 5], ['d', 6, 6, 6, 6, 6], ['i', 14, 14, 14, 14, 14, 14, 14, 14, 14, 14, 14, 14, 14], ['n', 2], ['e', 4, 4, 4], ['h', 11, 11, 11, 11, 11, 11, 11, 11, 11, 11], ['e', 3, 3], ['n', 2], ['s', 7, 7, 7, 7, 7, 7], ['n', 2], ['e', 4, 4, 4], ['a', 5, 5, 5, 5], ['n', 2], ['p', 10, 10, 10, 10, 10, 10, 10, 10, 10], ['e', 3, 3], ['e', 3, 3], ['e', 3, 3], ['p', 10, 10, 10, 10, 10, 10, 10, 10, 10], ['d', 6, 6, 6, 6, 6], ['q', 8, 8, 8, 8, 8, 8, 8], ['d', 6, 6, 6, 6, 6], ['s', 7, 7, 7, 7, 7, 7], ['e', 3, 3], ['e', 4, 4, 4], ['n', 2], ['e', 4, 4, 4], ['d', 6, 6, 6, 6, 6], ['q', 9, 9, 9, 9, 9, 9, 9, 9], ['p', 10, 10, 10, 10, 10, 10, 10, 10, 10], ['n', 2], ['p', 10, 10, 10, 10, 10, 10, 10, 10, 10], ['e', 4, 4, 4], ['d', 6, 6, 6, 6, 6], ['a', 5, 5, 5, 5], ['n', 2], ['d', 6, 6, 6, 6, 6], ['p', 10, 10, 10, 10, 10, 10, 10, 10, 10], ['e', 12, 12, 12, 12, 12, 12, 12, 12, 12, 12, 12], ['a', 5, 5, 5, 5], ['n', 2], ['e', 4, 4, 4], ['d', 6, 6, 6, 6, 6], ['q', 9, 9, 9, 9, 9, 9, 9, 9], ['a', 5, 5, 5, 5], ['n', 2], ['n', 2], ['n', 2], ['e', 4, 4, 4], ['e', 4, 4, 4], ['e', 3, 3], ['e', 3, 3], ['e', 4, 4, 4], ['a', 5, 5, 5, 5], ['e', 3, 3], ['a', 5, 5, 5, 5], ['e', 3, 3], ['e', 4, 4, 4], ['e', 3, 3], ['n', 2], ['e', 4, 4, 4], ['q', 9, 9, 9, 9, 9, 9, 9, 9], ['s', 7, 7, 7, 7, 7, 7], ['n', 2], ['a', 5, 5, 5, 5], ['q', 8, 8, 8, 8, 8, 8, 8], ['q', 9, 9, 9, 9, 9, 9, 9, 9], ['n', 2], ['i', 14, 14, 14, 14, 14, 14, 14, 14, 14, 14, 14, 14, 14], ['d', 6, 6, 6, 6, 6], ['e', 3, 3], ['h', 11, 11, 11, 11, 11, 11, 11, 11, 11, 11], ['q', 9, 9, 9, 9, 9, 9, 9, 9], ['e', 3, 3], ['a', 5, 5, 5, 5], ['d', 6, 6, 6, 6, 6], ['q', 9, 9, 9, 9, 9, 9, 9, 9], ['e', 3, 3], ['h', 11, 11, 11, 11, 11, 11, 11, 11, 11, 11], ['e', 3, 3], ['d', 6, 6, 6, 6, 6], ['e', 3, 3], ['e', 3, 3], ['q', 8, 8, 8, 8, 8, 8, 8], ['s', 7, 7, 7, 7, 7, 7], ['a', 5, 5, 5, 5], ['a', 5, 5, 5, 5], ['d', 6, 6, 6, 6, 6], ['h', 11, 11, 11, 11, 11, 11, 11, 11, 11, 11], ['a', 5, 5, 5, 5], ['n', 2], ['d', 6, 6, 6, 6, 6], ['e', 4, 4, 4], ['e', 3, 3], ['e', 3, 3], ['e', 3, 3], ['q', 8, 8, 8, 8, 8, 8, 8], ['n', 2], ['q', 8, 8, 8, 8, 8, 8, 8], ['a', 5, 5, 5, 5], ['s', 7, 7, 7, 7, 7, 7], ['n', 2], ['q', 8, 8, 8, 8, 8, 8, 8], ['s', 7, 7, 7, 7, 7, 7], ['q', 8, 8, 8, 8, 8, 8, 8], ['e', 3, 3], ['s', 7, 7, 7, 7, 7, 7], ['q', 8, 8, 8, 8, 8, 8, 8], ['d', 6, 6, 6, 6, 6], ['e', 4, 4, 4], ['h', 11, 11, 11, 11, 11, 11, 11, 11, 11, 11], ['e', 4, 4, 4], ['a', 5, 5, 5, 5], ['e', 4, 4, 4], ['d', 6, 6, 6, 6, 6], ['a', 5, 5, 5, 5], ['a', 5, 5, 5, 5], ['e', 4, 4, 4], ['s', 7, 7, 7, 7, 7, 7], ['e', 3, 3], ['s', 7, 7, 7, 7, 7, 7], ['e', 4, 4, 4], ['a', 5, 5, 5, 5], ['d', 6, 6, 6, 6, 6], ['e', 3, 3], ['e', 3, 3], ['n', 2], ['p', 10, 10, 10, 10, 10, 10, 10, 10, 10], ['s', 7, 7, 7, 7, 7, 7], ['a', 5, 5, 5, 5], ['d', 6, 6, 6, 6, 6], ['n', 2], ['e', 4, 4, 4], ['n', 2], ['q', 9, 9, 9, 9, 9, 9, 9, 9], ['d', 6, 6, 6, 6, 6], ['s', 7, 7, 7, 7, 7, 7], ['d'], ['q', 9, 9, 9, 9, 9, 9, 9, 9], ['p', 10, 10, 10, 10, 10, 10, 10, 10, 10], ['e', 4, 4, 4], ['e', 4, 4, 4], ['a', 5, 5, 5, 5], ['e', 3, 3], ['s', 7, 7, 7, 7, 7, 7], ['e', 4, 4, 4], ['e', 4, 4, 4], ['s', 7, 7, 7, 7, 7, 7], ['e', 4, 4, 4], ['s', 7, 7, 7, 7, 7, 7], ['a', 5, 5, 5, 5], ['s', 7, 7, 7, 7, 7, 7], ['e', 3, 3], ['e', 4, 4, 4], ['q', 9, 9, 9, 9, 9, 9, 9, 9], ['d', 6, 6, 6, 6, 6], ['n', 2], ['e', 3, 3], ['s', 7, 7, 7, 7, 7, 7], ['q', 8, 8, 8, 8, 8, 8, 8], ['n', 2], ['q', 8, 8, 8, 8, 8, 8, 8], ['a', 5, 5, 5, 5], ['e', 4, 4, 4], ['q', 8, 8, 8, 8, 8, 8, 8], ['s', 7, 7, 7, 7, 7, 7], ['e', 4, 4, 4], ['n', 2], ['e', 4, 4, 4], ['n', 2], ['e', 4, 4, 4], ['n', 2], ['e', 3, 3], ['e', 3, 3], ['s', 7, 7, 7, 7, 7, 7], ['e', 12, 12, 12, 12, 12, 12, 12, 12, 12, 12, 12], ['d', 6, 6, 6, 6, 6], ['d', 6, 6, 6, 6, 6], ['s', 7, 7, 7, 7, 7, 7], ['e', 3, 3], ['n', 2], ['e', 3, 3], ['q', 8, 8, 8, 8, 8, 8, 8], ['e', 4, 4, 4], ['a', 5, 5, 5, 5], ['q', 9, 9, 9, 9, 9, 9, 9, 9], ['a', 5, 5, 5, 5], ['n', 2], ['d', 6, 6, 6, 6, 6], ['e', 4, 4, 4], ['q', 9, 9, 9, 9, 9, 9, 9, 9], ['e', 3, 3], ['e', 3, 3], ['n', 2], ['a', 5, 5, 5, 5], ['e', 4, 4, 4], ['s', 7, 7, 7, 7, 7, 7], ['d', 6, 6, 6, 6, 6], ['q', 8, 8, 8, 8, 8, 8, 8], ['e', 3, 3], ['q', 8, 8, 8, 8, 8, 8, 8], ['d', 6, 6, 6, 6, 6], ['n', 2], ['a', 5, 5, 5, 5], ['d', 6, 6, 6, 6, 6], ['e', 3, 3], ['n', 2], ['n', 2], ['e', 4, 4, 4], ['a', 5, 5, 5, 5], ['e', 4, 4, 4], ['p', 10, 10, 10, 10, 10, 10, 10, 10, 10], ['a', 5, 5, 5, 5], ['n', 2], ['n', 2], ['e', 3, 3], ['e', 3, 3], ['d', 6, 6, 6, 6, 6], ['n', 2], ['q', 9, 9, 9, 9, 9, 9, 9, 9], ['s', 7, 7, 7, 7, 7, 7], ['e', 12, 12, 12, 12, 12, 12, 12, 12, 12, 12, 12], ['q', 8, 8, 8, 8, 8, 8, 8], ['a', 5, 5, 5, 5], ['e', 12, 12, 12, 12, 12, 12, 12, 12, 12, 12, 12], ['s', 7, 7, 7, 7, 7, 7], ['e', 4, 4, 4], ['e', 3, 3], ['d', 6, 6, 6, 6, 6], ['d', 6, 6, 6, 6, 6], ['n', 2], ['n', 2], ['n', 2], ['q', 9, 9, 9, 9, 9, 9, 9, 9], ['n', 2], ['a', 5, 5, 5, 5], ['a', 5, 5, 5, 5], ['e', 3, 3], ['e', 4, 4, 4], ['e', 3, 3], ['d', 6, 6, 6, 6, 6], ['q', 8, 8, 8, 8, 8, 8, 8], ['q', 8, 8, 8, 8, 8, 8, 8], ['d', 6, 6, 6, 6, 6], ['e', 4, 4, 4], ['e', 3, 3], ['e', 12, 12, 12, 12, 12, 12, 12, 12, 12, 12, 12], ['q', 9, 9, 9, 9, 9, 9, 9, 9], ['n', 2], ['d', 6, 6, 6, 6, 6], ['q', 8, 8, 8, 8, 8, 8, 8], ['q', 9, 9, 9, 9, 9, 9, 9, 9], ['e', 3, 3], ['a', 5, 5, 5, 5], ['e', 3, 3], ['n', 2], ['d', 6, 6, 6, 6, 6], ['e', 4, 4, 4], ['q', 8, 8, 8, 8, 8, 8, 8], ['q', 9, 9, 9, 9, 9, 9, 9, 9], ['a', 5, 5, 5, 5], ['s', 7, 7, 7, 7, 7, 7], ['n', 2], ['p', 10, 10, 10, 10, 10, 10, 10, 10, 10], ['s', 7, 7, 7, 7, 7, 7], ['n', 2], ['e', 3, 3], ['e', 3, 3], ['d', 6, 6, 6, 6, 6], ['e', 4, 4, 4], ['q', 8, 8, 8, 8, 8, 8, 8], ['e', 4, 4, 4], ['e', 4, 4, 4], ['s', 7, 7, 7, 7, 7, 7], ['d', 6, 6, 6, 6, 6], ['e', 4, 4, 4], ['s', 7, 7, 7, 7, 7, 7], ['n', 2], ['q', 9, 9, 9, 9, 9, 9, 9, 9], ['d', 6, 6, 6, 6, 6], ['e', 3, 3], ['e', 3, 3], ['e', 3, 3], ['e', 4, 4, 4], ['q', 9, 9, 9, 9, 9, 9, 9, 9], ['a', 5, 5, 5, 5], ['p', 10, 10, 10, 10, 10, 10, 10, 10, 10], ['a', 5, 5, 5, 5], ['e', 12, 12, 12, 12, 12, 12, 12, 12, 12, 12, 12], ['n', 2], ['q', 9, 9, 9, 9, 9, 9, 9, 9], ['e', 3, 3], ['n', 2], ['e', 4, 4, 4], ['a', 5, 5, 5, 5], ['s', 7, 7, 7, 7, 7, 7], ['e', 3, 3], ['d', 6, 6, 6, 6, 6], ['a', 5, 5, 5, 5], ['q', 8, 8, 8, 8, 8, 8, 8], ['d', 6, 6, 6, 6, 6], ['n', 2], ['s', 7, 7, 7, 7, 7, 7], ['e', 4, 4, 4], ['n', 2], ['n', 2], ['q', 8, 8, 8, 8, 8, 8, 8], ['n', 2], ['e', 4, 4, 4], ['e', 3, 3], ['s', 7, 7, 7, 7, 7, 7], ['h', 11, 11, 11, 11, 11, 11, 11, 11, 11, 11], ['q', 9, 9, 9, 9, 9, 9, 9, 9], ['d'], ['e', 12, 12, 12, 12, 12, 12, 12, 12, 12, 12, 12], ['q', 9, 9, 9, 9, 9, 9, 9, 9], ['e', 3, 3], ['h', 11, 11, 11, 11, 11, 11, 11, 11, 11, 11], ['a', 5, 5, 5, 5], ['d', 6, 6, 6, 6, 6], ['e', 3, 3], ['d', 6, 6, 6, 6, 6], ['p', 10, 10, 10, 10, 10, 10, 10, 10, 10], ['a', 5, 5, 5, 5], ['d', 6, 6, 6, 6, 6], ['e', 4, 4, 4], ['n', 2], ['a', 5, 5, 5, 5], ['q', 9, 9, 9, 9, 9, 9, 9, 9], ['d', 6, 6, 6, 6, 6], ['p', 10, 10, 10, 10, 10, 10, 10, 10, 10], ['d'], ['e', 4, 4, 4], ['n', 2], ['e', 4, 4, 4], ['e', 4, 4, 4], ['s', 7, 7, 7, 7, 7, 7], ['q', 8, 8, 8, 8, 8, 8, 8], ['a', 5, 5, 5, 5], ['q', 8, 8, 8, 8, 8, 8, 8], ['n', 2], ['q', 9, 9, 9, 9, 9, 9, 9, 9], ['q', 9, 9, 9, 9, 9, 9, 9, 9], ['a', 5, 5, 5, 5], ['e', 3, 3], ['p', 10, 10, 10, 10, 10, 10, 10, 10, 10], ['e', 4, 4, 4], ['e', 4, 4, 4], ['s', 7, 7, 7, 7, 7, 7], ['s', 13, 13, 13, 13, 13, 13, 13, 13, 13, 13, 13, 13], ['s', 13, 13, 13, 13, 13, 13, 13, 13, 13, 13, 13, 13], ['a', 5, 5, 5, 5], ['e', 3, 3], ['n', 2], ['q', 9, 9, 9, 9, 9, 9, 9, 9], ['a', 5, 5, 5, 5], ['e', 4, 4, 4], ['e', 4, 4, 4], ['d', 6, 6, 6, 6, 6], ['a', 5, 5, 5, 5], ['a', 5, 5, 5, 5], ['s', 7, 7, 7, 7, 7, 7], ['d', 6, 6, 6, 6, 6], ['e', 4, 4, 4], ['a', 5, 5, 5, 5], ['p', 10, 10, 10, 10, 10, 10, 10, 10, 10], ['q', 8, 8, 8, 8, 8, 8, 8], ['p', 10, 10, 10, 10, 10, 10, 10, 10, 10], ['p', 10, 10, 10, 10, 10, 10, 10, 10, 10], ['e', 4, 4, 4], ['e', 3, 3], ['q', 8, 8, 8, 8, 8, 8, 8], ['e', 4, 4, 4], ['e', 3, 3], ['e', 4, 4, 4], ['n', 2], ['e', 3, 3], ['s', 7, 7, 7, 7, 7, 7], ['q', 9, 9, 9, 9, 9, 9, 9, 9], ['e', 3, 3], ['e', 4, 4, 4], ['n', 2], ['q', 8, 8, 8, 8, 8, 8, 8], ['h', 11, 11, 11, 11, 11, 11, 11, 11, 11, 11], ['d', 6, 6, 6, 6, 6], ['e', 4, 4, 4], ['q', 8, 8, 8, 8, 8, 8, 8], ['d', 6, 6, 6, 6, 6], ['q', 9, 9, 9, 9, 9, 9, 9, 9], ['s', 7, 7, 7, 7, 7, 7], ['p', 10, 10, 10, 10, 10, 10, 10, 10, 10], ['a', 5, 5, 5, 5], ['e', 4, 4, 4], ['d', 6, 6, 6, 6, 6], ['d', 6, 6, 6, 6, 6], ['d', 6, 6, 6, 6, 6], ['e', 3, 3], ['a', 5, 5, 5, 5], ['h', 11, 11, 11, 11, 11, 11, 11, 11, 11, 11], ['e', 4, 4, 4], ['q', 8, 8, 8, 8, 8, 8, 8], ['e', 3, 3], ['e', 4, 4, 4], ['q', 8, 8, 8, 8, 8, 8, 8], ['e', 4, 4, 4], ['d', 6, 6, 6, 6, 6], ['e', 4, 4, 4], ['n', 2], ['s', 7, 7, 7, 7, 7, 7], ['a', 5, 5, 5, 5], ['a', 5, 5, 5, 5], ['n', 2], ['d', 6, 6, 6, 6, 6], ['e', 4, 4, 4], ['e', 4, 4, 4], ['d', 6, 6, 6, 6, 6], ['q', 8, 8, 8, 8, 8, 8, 8], ['p', 10, 10, 10, 10, 10, 10, 10, 10, 10], ['e', 3, 3], ['p', 10, 10, 10, 10, 10, 10, 10, 10, 10], ['h', 11, 11, 11, 11, 11, 11, 11, 11, 11, 11], ['e', 3, 3], ['d', 6, 6, 6, 6, 6], ['e', 4, 4, 4], ['q', 9, 9, 9, 9, 9, 9, 9, 9], ['a', 5, 5, 5, 5], ['e', 4, 4, 4], ['e', 4, 4, 4], ['e', 3, 3], ['e', 4, 4, 4], ['d', 6, 6, 6, 6, 6], ['e', 4, 4, 4], ['a', 5, 5, 5, 5], ['e', 4, 4, 4], ['q', 9, 9, 9, 9, 9, 9, 9, 9], ['q', 8, 8, 8, 8, 8, 8, 8], ['p', 10, 10, 10, 10, 10, 10, 10, 10, 10], ['n', 2], ['h', 11, 11, 11, 11, 11, 11, 11, 11, 11, 11], ['e', 4, 4, 4], ['e', 3, 3], ['e', 3, 3], ['s', 7, 7, 7, 7, 7, 7], ['e', 3, 3], ['s', 7, 7, 7, 7, 7, 7], ['e', 3, 3], ['e', 4, 4, 4], ['q', 8, 8, 8, 8, 8, 8, 8], ['a', 5, 5, 5, 5], ['d', 6, 6, 6, 6, 6], ['p', 10, 10, 10, 10, 10, 10, 10, 10, 10], ['q', 9, 9, 9, 9, 9, 9, 9, 9], ['a', 5, 5, 5, 5], ['e', 4, 4, 4], ['d', 6, 6, 6, 6, 6], ['s', 7, 7, 7, 7, 7, 7], ['d', 6, 6, 6, 6, 6], ['a', 5, 5, 5, 5], ['s', 7, 7, 7, 7, 7, 7], ['h', 11, 11, 11, 11, 11, 11, 11, 11, 11, 11], ['a', 5, 5, 5, 5], ['e', 12, 12, 12, 12, 12, 12, 12, 12, 12, 12, 12], ['a', 5, 5, 5, 5], ['e', 4, 4, 4], ['e', 4, 4, 4], ['e', 3, 3], ['a', 5, 5, 5, 5], ['n', 2], ['e', 4, 4, 4], ['d', 6, 6, 6, 6, 6], ['d', 6, 6, 6, 6, 6], ['q', 8, 8, 8, 8, 8, 8, 8], ['a', 5, 5, 5, 5], ['a', 5, 5, 5, 5], ['s', 7, 7, 7, 7, 7, 7], ['q', 9, 9, 9, 9, 9, 9, 9, 9], ['a', 5, 5, 5, 5], ['d', 6, 6, 6, 6, 6], ['n', 2], ['s', 7, 7, 7, 7, 7, 7], ['e', 4, 4, 4], ['q', 8, 8, 8, 8, 8, 8, 8], ['e', 3, 3], ['e', 4, 4, 4], ['a', 5, 5, 5, 5], ['s', 7, 7, 7, 7, 7, 7], ['d', 6, 6, 6, 6, 6], ['e', 3, 3], ['e', 3, 3], ['s', 7, 7, 7, 7, 7, 7], ['p', 10, 10, 10, 10, 10, 10, 10, 10, 10], ['q', 9, 9, 9, 9, 9, 9, 9, 9], ['n', 2], ['n', 2], ['a', 5, 5, 5, 5], ['e', 4, 4, 4], ['a', 5, 5, 5, 5], ['e', 4, 4, 4], ['e', 4, 4, 4], ['q', 9, 9, 9, 9, 9, 9, 9, 9], ['d', 6, 6, 6, 6, 6], ['q', 9, 9, 9, 9, 9, 9, 9, 9], ['a', 5, 5, 5, 5], ['d', 6, 6, 6, 6, 6], ['a', 5, 5, 5, 5], ['s', 7, 7, 7, 7, 7, 7], ['n', 2], ['e', 3, 3], ['d', 6, 6, 6, 6, 6], ['d', 6, 6, 6, 6, 6], ['a', 5, 5, 5, 5], ['d'], ['e', 3, 3], ['d', 6, 6, 6, 6, 6], ['q', 8, 8, 8, 8, 8, 8, 8], ['d', 6, 6, 6, 6, 6], ['e', 4, 4, 4], ['e', 3, 3], ['e', 3, 3], ['s', 7, 7, 7, 7, 7, 7], ['e', 4, 4, 4], ['d', 6, 6, 6, 6, 6], ['e', 3, 3], ['d', 6, 6, 6, 6, 6], ['e', 3, 3], ['e', 4, 4, 4], ['s', 13, 13, 13, 13, 13, 13, 13, 13, 13, 13, 13, 13], ['e', 3, 3], ['a', 5, 5, 5, 5], ['a', 5, 5, 5, 5], ['s', 7, 7, 7, 7, 7, 7], ['n', 2], ['d'], ['a', 5, 5, 5, 5], ['s', 13, 13, 13, 13, 13, 13, 13, 13, 13, 13, 13, 13], ['n', 2], ['n', 2], ['a', 5, 5, 5, 5], ['a', 5, 5, 5, 5], ['e', 4, 4, 4], ['s', 7, 7, 7, 7, 7, 7], ['e', 3, 3], ['d', 6, 6, 6, 6, 6], ['e', 4, 4, 4], ['e', 3, 3], ['a', 5, 5, 5, 5], ['d'], ['q', 9, 9, 9, 9, 9, 9, 9, 9], ['a', 5, 5, 5, 5], ['q', 8, 8, 8, 8, 8, 8, 8], ['e', 4, 4, 4], ['s', 7, 7, 7, 7, 7, 7], ['q', 9, 9, 9, 9, 9, 9, 9, 9], ['e', 3, 3], ['p', 10, 10, 10, 10, 10, 10, 10, 10, 10], ['q', 8, 8, 8, 8, 8, 8, 8], ['s', 7, 7, 7, 7, 7, 7], ['a', 5, 5, 5, 5], ['s', 7, 7, 7, 7, 7, 7], ['q', 8, 8, 8, 8, 8, 8, 8], ['d', 6, 6, 6, 6, 6], ['d', 6, 6, 6, 6, 6], ['p', 10, 10, 10, 10, 10, 10, 10, 10, 10], ['q', 8, 8, 8, 8, 8, 8, 8], ['q', 8, 8, 8, 8, 8, 8, 8], ['n', 2], ['d', 6, 6, 6, 6, 6], ['e', 4, 4, 4], ['s', 7, 7, 7, 7, 7, 7], ['a', 5, 5, 5, 5], ['e', 4, 4, 4], ['e', 4, 4, 4], ['e', 3, 3], ['s', 7, 7, 7, 7, 7, 7], ['n', 2], ['s', 7, 7, 7, 7, 7, 7], ['a', 5, 5, 5, 5], ['e', 3, 3], ['s', 7, 7, 7, 7, 7, 7], ['d', 6, 6, 6, 6, 6], ['e', 4, 4, 4], ['e', 4, 4, 4], ['d', 6, 6, 6, 6, 6], ['d', 6, 6, 6, 6, 6], ['a', 5, 5, 5, 5], ['n', 2], ['n', 2], ['e', 3, 3], ['q', 8, 8, 8, 8, 8, 8, 8], ['p', 10, 10, 10, 10, 10, 10, 10, 10, 10], ['d', 6, 6, 6, 6, 6], ['q', 8, 8, 8, 8, 8, 8, 8], ['n', 2], ['p', 10, 10, 10, 10, 10, 10, 10, 10, 10], ['a', 5, 5, 5, 5], ['e', 3, 3], ['q', 8, 8, 8, 8, 8, 8, 8], ['a', 5, 5, 5, 5], ['d', 6, 6, 6, 6, 6], ['n', 2], ['n', 2], ['n', 2], ['e', 3, 3], ['q', 8, 8, 8, 8, 8, 8, 8], ['a', 5, 5, 5, 5], ['p', 10, 10, 10, 10, 10, 10, 10, 10, 10], ['e', 3, 3], ['q', 8, 8, 8, 8, 8, 8, 8], ['p', 10, 10, 10, 10, 10, 10, 10, 10, 10], ['d', 6, 6, 6, 6, 6], ['s', 7, 7, 7, 7, 7, 7], ['q', 9, 9, 9, 9, 9, 9, 9, 9], ['d', 6, 6, 6, 6, 6], ['q', 8, 8, 8, 8, 8, 8, 8], ['a', 5, 5, 5, 5], ['s', 7, 7, 7, 7, 7, 7], ['s', 7, 7, 7, 7, 7, 7], ['h', 11, 11, 11, 11, 11, 11, 11, 11, 11, 11], ['h', 11, 11, 11, 11, 11, 11, 11, 11, 11, 11], ['n', 2], ['n', 2], ['q', 8, 8, 8, 8, 8, 8, 8], ['d', 6, 6, 6, 6, 6], ['e', 4, 4, 4], ['a', 5, 5, 5, 5], ['s', 7, 7, 7, 7, 7, 7], ['s', 7, 7, 7, 7, 7, 7], ['n', 2], ['q', 8, 8, 8, 8, 8, 8, 8], ['e', 3, 3], ['n', 2], ['e', 4, 4, 4], ['e', 3, 3], ['a', 5, 5, 5, 5], ['a', 5, 5, 5, 5], ['q', 9, 9, 9, 9, 9, 9, 9, 9], ['e', 3, 3], ['n', 2], ['n', 2], ['s', 7, 7, 7, 7, 7, 7], ['n', 2], ['e', 3, 3], ['s', 7, 7, 7, 7, 7, 7], ['q', 9, 9, 9, 9, 9, 9, 9, 9], ['a', 5, 5, 5, 5], ['e', 4, 4, 4], ['e', 4, 4, 4], ['n', 2], ['e', 3, 3], ['e', 4, 4, 4], ['p', 10, 10, 10, 10, 10, 10, 10, 10, 10], ['e', 4, 4, 4], ['n', 2], ['a', 5, 5, 5, 5], ['p', 10, 10, 10, 10, 10, 10, 10, 10, 10], ['e', 4, 4, 4], ['n', 2], ['e', 3, 3], ['e', 4, 4, 4], ['a', 5, 5, 5, 5], ['a', 5, 5, 5, 5], ['n', 2], ['a', 5, 5, 5, 5], ['d', 6, 6, 6, 6, 6], ['a', 5, 5, 5, 5], ['s', 7, 7, 7, 7, 7, 7], ['e', 4, 4, 4], ['e', 3, 3], ['n', 2], ['e', 3, 3], ['p', 10, 10, 10, 10, 10, 10, 10, 10, 10], ['e', 4, 4, 4], ['e', 4, 4, 4], ['n', 2], ['s', 7, 7, 7, 7, 7, 7], ['d', 6, 6, 6, 6, 6], ['e', 3, 3], ['p', 10, 10, 10, 10, 10, 10, 10, 10, 10], ['e', 4, 4, 4], ['n', 2], ['a', 5, 5, 5, 5], ['s', 7, 7, 7, 7, 7, 7], ['a', 5, 5, 5, 5], ['d', 6, 6, 6, 6, 6], ['s', 7, 7, 7, 7, 7, 7], ['n', 2], ['a', 5, 5, 5, 5], ['e', 3, 3], ['d', 6, 6, 6, 6, 6], ['a', 5, 5, 5, 5], ['e', 3, 3], ['a', 5, 5, 5, 5], ['e', 3, 3], ['q', 9, 9, 9, 9, 9, 9, 9, 9], ['d'], ['a', 5, 5, 5, 5], ['s', 13, 13, 13, 13, 13, 13, 13, 13, 13, 13, 13, 13], ['n', 2], ['s', 7, 7, 7, 7, 7, 7], ['p', 10, 10, 10, 10, 10, 10, 10, 10, 10], ['d', 6, 6, 6, 6, 6], ['q', 9, 9, 9, 9, 9, 9, 9, 9], ['e', 4, 4, 4], ['n', 2], ['e', 3, 3], ['d', 6, 6, 6, 6, 6], ['e', 4, 4, 4], ['d', 6, 6, 6, 6, 6], ['a', 5, 5, 5, 5], ['d', 6, 6, 6, 6, 6], ['q', 8, 8, 8, 8, 8, 8, 8], ['a', 5, 5, 5, 5], ['s', 7, 7, 7, 7, 7, 7], ['e', 4, 4, 4], ['q', 8, 8, 8, 8, 8, 8, 8], ['s', 7, 7, 7, 7, 7, 7], ['e', 4, 4, 4], ['e', 12, 12, 12, 12, 12, 12, 12, 12, 12, 12, 12], ['h', 11, 11, 11, 11, 11, 11, 11, 11, 11, 11], ['e', 3, 3], ['e', 4, 4, 4], ['n', 2], ['q', 8, 8, 8, 8, 8, 8, 8], ['n', 2], ['d', 6, 6, 6, 6, 6], ['q', 9, 9, 9, 9, 9, 9, 9, 9], ['q', 8, 8, 8, 8, 8, 8, 8], ['d', 6, 6, 6, 6, 6], ['a', 5, 5, 5, 5], ['n', 2], ['q', 9, 9, 9, 9, 9, 9, 9, 9], ['n', 2], ['n', 2], ['a', 5, 5, 5, 5], ['e', 4, 4, 4], ['e', 4, 4, 4], ['s', 7, 7, 7, 7, 7, 7], ['e', 3, 3], ['d', 6, 6, 6, 6, 6], ['e', 4, 4, 4], ['a', 5, 5, 5, 5], ['s', 7, 7, 7, 7, 7, 7], ['n', 2], ['q', 8, 8, 8, 8, 8, 8, 8], ['p', 10, 10, 10, 10, 10, 10, 10, 10, 10], ['a', 5, 5, 5, 5], ['d', 6, 6, 6, 6, 6], ['e', 4, 4, 4], ['e', 3, 3], ['e', 4, 4, 4], ['q', 8, 8, 8, 8, 8, 8, 8], ['e', 3, 3], ['e', 3, 3], ['s', 7, 7, 7, 7, 7, 7], ['e', 3, 3], ['e', 4, 4, 4], ['a', 5, 5, 5, 5], ['s', 7, 7, 7, 7, 7, 7], ['n', 2], ['q', 8, 8, 8, 8, 8, 8, 8], ['q', 9, 9, 9, 9, 9, 9, 9, 9], ['e', 3, 3], ['q', 8, 8, 8, 8, 8, 8, 8], ['s', 7, 7, 7, 7, 7, 7], ['n', 2], ['d'], ['s', 7, 7, 7, 7, 7, 7], ['n', 2], ['s', 7, 7, 7, 7, 7, 7], ['n', 2], ['s', 7, 7, 7, 7, 7, 7], ['q', 8, 8, 8, 8, 8, 8, 8], ['q', 8, 8, 8, 8, 8, 8, 8], ['e', 3, 3], ['a', 5, 5, 5, 5], ['p', 10, 10, 10, 10, 10, 10, 10, 10, 10], ['d', 6, 6, 6, 6, 6], ['e', 3, 3], ['a', 5, 5, 5, 5], ['e', 12, 12, 12, 12, 12, 12, 12, 12, 12, 12, 12], ['e', 3, 3], ['d', 6, 6, 6, 6, 6], ['p', 10, 10, 10, 10, 10, 10, 10, 10, 10], ['d'], ['e', 3, 3], ['n', 2], ['q', 8, 8, 8, 8, 8, 8, 8], ['s', 7, 7, 7, 7, 7, 7], ['e', 3, 3], ['a', 5, 5, 5, 5], ['q', 8, 8, 8, 8, 8, 8, 8], ['e', 4, 4, 4], ['s', 13, 13, 13, 13, 13, 13, 13, 13, 13, 13, 13, 13], ['e', 4, 4, 4], ['a', 5, 5, 5, 5], ['q', 9, 9, 9, 9, 9, 9, 9, 9], ['a', 5, 5, 5, 5], ['d', 6, 6, 6, 6, 6], ['p', 10, 10, 10, 10, 10, 10, 10, 10, 10], ['e', 4, 4, 4], ['d', 6, 6, 6, 6, 6], ['n', 2], ['a', 5, 5, 5, 5], ['e', 3, 3], ['a', 5, 5, 5, 5], ['a', 5, 5, 5, 5], ['s', 7, 7, 7, 7, 7, 7], ['e', 4, 4, 4], ['h', 11, 11, 11, 11, 11, 11, 11, 11, 11, 11], ['d', 6, 6, 6, 6, 6], ['e', 4, 4, 4], ['a', 5, 5, 5, 5], ['a', 5, 5, 5, 5], ['a', 5, 5, 5, 5], ['q', 8, 8, 8, 8, 8, 8, 8], ['e', 4, 4, 4], ['d', 6, 6, 6, 6, 6], ['e', 4, 4, 4], ['d', 6, 6, 6, 6, 6], ['q', 9, 9, 9, 9, 9, 9, 9, 9], ['q', 8, 8, 8, 8, 8, 8, 8], ['e', 4, 4, 4], ['e', 4, 4, 4], ['s', 7, 7, 7, 7, 7, 7], ['s', 7, 7, 7, 7, 7, 7], ['d', 6, 6, 6, 6, 6], ['a', 5, 5, 5, 5], ['a', 5, 5, 5, 5], ['p', 10, 10, 10, 10, 10, 10, 10, 10, 10], ['e', 4, 4, 4], ['s', 7, 7, 7, 7, 7, 7], ['q', 8, 8, 8, 8, 8, 8, 8], ['d', 6, 6, 6, 6, 6], ['d', 6, 6, 6, 6, 6], ['n', 2], ['q', 8, 8, 8, 8, 8, 8, 8], ['q', 8, 8, 8, 8, 8, 8, 8], ['d', 6, 6, 6, 6, 6], ['s', 13, 13, 13, 13, 13, 13, 13, 13, 13, 13, 13, 13], ['n', 2], ['e', 4, 4, 4], ['e', 4, 4, 4], ['d', 6, 6, 6, 6, 6], ['d', 6, 6, 6, 6, 6], ['a', 5, 5, 5, 5], ['a', 5, 5, 5, 5], ['d', 6, 6, 6, 6, 6], ['s', 7, 7, 7, 7, 7, 7], ['e', 4, 4, 4], ['n', 2], ['e', 4, 4, 4], ['a', 5, 5, 5, 5], ['q', 9, 9, 9, 9, 9, 9, 9, 9], ['s', 7, 7, 7, 7, 7, 7], ['e', 4, 4, 4], ['a', 5, 5, 5, 5], ['a', 5, 5, 5, 5], ['d', 6, 6, 6, 6, 6], ['e', 3, 3], ['q', 8, 8, 8, 8, 8, 8, 8], ['a', 5, 5, 5, 5], ['a', 5, 5, 5, 5], ['e', 3, 3], ['d', 6, 6, 6, 6, 6], ['s', 7, 7, 7, 7, 7, 7], ['q', 9, 9, 9, 9, 9, 9, 9, 9], ['n', 2], ['a', 5, 5, 5, 5], ['e', 4, 4, 4], ['n', 15, 15, 15, 15, 15, 15, 15, 15, 15, 15, 15, 15, 15, 15], ['e', 3, 3], ['e', 4, 4, 4], ['e', 4, 4, 4], ['e', 4, 4, 4], ['e', 3, 3], ['e', 3, 3], ['e', 3, 3], ['d', 6, 6, 6, 6, 6], ['a', 5, 5, 5, 5], ['e', 4, 4, 4], ['n', 2], ['e', 4, 4, 4], ['q', 8, 8, 8, 8, 8, 8, 8], ['e', 3, 3], ['e', 4, 4, 4], ['d', 6, 6, 6, 6, 6], ['d', 6, 6, 6, 6, 6], ['d', 6, 6, 6, 6, 6], ['e', 3, 3], ['s', 7, 7, 7, 7, 7, 7], ['e', 12, 12, 12, 12, 12, 12, 12, 12, 12, 12, 12], ['s', 7, 7, 7, 7, 7, 7], ['e', 4, 4, 4], ['s', 7, 7, 7, 7, 7, 7], ['a', 5, 5, 5, 5], ['e', 3, 3], ['a', 5, 5, 5, 5], ['q', 8, 8, 8, 8, 8, 8, 8], ['q', 8, 8, 8, 8, 8, 8, 8], ['e', 4, 4, 4], ['q', 8, 8, 8, 8, 8, 8, 8], ['a', 5, 5, 5, 5], ['h', 11, 11, 11, 11, 11, 11, 11, 11, 11, 11], ['e', 4, 4, 4], ['e', 3, 3], ['d'], ['a', 5, 5, 5, 5], ['a', 5, 5, 5, 5], ['d', 6, 6, 6, 6, 6], ['e', 3, 3], ['n', 2], ['n', 2], ['q', 8, 8, 8, 8, 8, 8, 8], ['e', 3, 3], ['n', 2], ['p', 10, 10, 10, 10, 10, 10, 10, 10, 10], ['q', 9, 9, 9, 9, 9, 9, 9, 9], ['d', 6, 6, 6, 6, 6], ['p', 10, 10, 10, 10, 10, 10, 10, 10, 10], ['e', 4, 4, 4], ['n', 2], ['e', 3, 3], ['q', 9, 9, 9, 9, 9, 9, 9, 9], ['q', 8, 8, 8, 8, 8, 8, 8], ['n', 2], ['q', 9, 9, 9, 9, 9, 9, 9, 9], ['e', 3, 3], ['s', 7, 7, 7, 7, 7, 7], ['e', 3, 3], ['a', 5, 5, 5, 5], ['e', 4, 4, 4], ['e', 3, 3], ['a', 5, 5, 5, 5], ['p', 10, 10, 10, 10, 10, 10, 10, 10, 10], ['d', 6, 6, 6, 6, 6], ['a', 5, 5, 5, 5], ['a', 5, 5, 5, 5], ['d', 6, 6, 6, 6, 6], ['q', 9, 9, 9, 9, 9, 9, 9, 9], ['a', 5, 5, 5, 5], ['q', 8, 8, 8, 8, 8, 8, 8], ['h', 11, 11, 11, 11, 11, 11, 11, 11, 11, 11], ['s', 7, 7, 7, 7, 7, 7], ['e', 3, 3], ['d', 6, 6, 6, 6, 6], ['d', 6, 6, 6, 6, 6], ['e', 3, 3], ['e', 3, 3], ['e', 4, 4, 4], ['e', 3, 3], ['a', 5, 5, 5, 5], ['e', 4, 4, 4], ['q', 9, 9, 9, 9, 9, 9, 9, 9], ['n', 2], ['e', 3, 3], ['q', 9, 9, 9, 9, 9, 9, 9, 9], ['s', 7, 7, 7, 7, 7, 7], ['d', 6, 6, 6, 6, 6], ['q', 9, 9, 9, 9, 9, 9, 9, 9], ['p', 10, 10, 10, 10, 10, 10, 10, 10, 10], ['d', 6, 6, 6, 6, 6], ['d', 6, 6, 6, 6, 6], ['n', 2], ['s', 7, 7, 7, 7, 7, 7], ['q', 9, 9, 9, 9, 9, 9, 9, 9], ['p', 10, 10, 10, 10, 10, 10, 10, 10, 10], ['d', 6, 6, 6, 6, 6], ['d', 6, 6, 6, 6, 6], ['s', 7, 7, 7, 7, 7, 7], ['n', 2], ['e', 3, 3], ['q', 8, 8, 8, 8, 8, 8, 8], ['a', 5, 5, 5, 5], ['e', 3, 3], ['a', 5, 5, 5, 5], ['d', 6, 6, 6, 6, 6], ['a', 5, 5, 5, 5], ['d', 6, 6, 6, 6, 6], ['e', 4, 4, 4], ['e', 4, 4, 4], ['s', 7, 7, 7, 7, 7, 7], ['a', 5, 5, 5, 5]]\n"
     ]
    }
   ],
   "source": [
    "\n",
    "from random import shuffle\n",
    "\n",
    "premier_char=[] \n",
    " \n",
    "for i in range(len(mot_taill_pool)):\n",
    "    inde=x[i]\n",
    "#    print(inde)\n",
    "    each_mot=mot_taill_pool[inde]\n",
    "#    print(each_mot)\n",
    "    each_mot[0]=flat_premier_char_pool[inde] \n",
    "    premier_char.append( each_mot )\n",
    "#print( premier_char )    "
   ]
  },
  {
   "cell_type": "markdown",
   "id": "d950f233-3625-4955-a891-0d862bab6eb5",
   "metadata": {},
   "source": [
    "### Job 34 \n",
    "En analysant à nouveau le fichier “data.txt”, établissez des statistiques synthétisant le\n",
    "nombre de mots par phrase. Produisez un histogramme présentant ces statistiques,\n",
    "puis, à l’aide de votre générateur de mot, créez un générateur de phrases à consonance\n",
    "de “Lorem Ipsum”."
   ]
  },
  {
   "cell_type": "code",
   "execution_count": 26,
   "id": "4db136c0-5c2e-4c59-8ef6-8d8ab78898fe",
   "metadata": {},
   "outputs": [
    {
     "name": "stdout",
     "output_type": "stream",
     "text": [
      "<class 'str'>\n"
     ]
    }
   ],
   "source": [
    "import re\n",
    " \n",
    "f = open(\"data.txt\",\"r\")\n",
    "text= f.read()\n",
    "f.close()\n",
    "print(type( text))"
   ]
  },
  {
   "cell_type": "code",
   "execution_count": 27,
   "id": "72efecb6-1bc2-4707-9f0d-bb7e1acfc634",
   "metadata": {},
   "outputs": [],
   "source": [
    "import re\n",
    "alphabets= \"([A-Za-z])\"\n",
    "prefixes = \"(Mr|St|Mrs|Ms|Dr)[.]\"\n",
    "suffixes = \"(Inc|Ltd|Jr|Sr|Co)\"\n",
    "starters = \"(Mr|Mrs|Ms|Dr|Prof|Capt|Cpt|Lt|He\\s|She\\s|It\\s|They\\s|Their\\s|Our\\s|We\\s|But\\s|However\\s|That\\s|This\\s|Wherever)\"\n",
    "acronyms = \"([A-Z][.][A-Z][.](?:[A-Z][.])?)\"\n",
    "websites = \"[.](com|net|org|io|gov|edu|me)\"\n",
    "digits = \"([0-9])\"\n",
    "\n",
    "def split_into_sentences(text):\n",
    "    text = \" \" + text + \"  \"\n",
    "    text = text.replace(\"\\n\",\" \")\n",
    "    text = re.sub(prefixes,\"\\\\1<prd>\",text)\n",
    "    text = re.sub(websites,\"<prd>\\\\1\",text)\n",
    "    text = re.sub(digits + \"[.]\" + digits,\"\\\\1<prd>\\\\2\",text)\n",
    "    if \"...\" in text: text = text.replace(\"...\",\"<prd><prd><prd>\")\n",
    "    if \"Ph.D\" in text: text = text.replace(\"Ph.D.\",\"Ph<prd>D<prd>\")\n",
    "    text = re.sub(\"\\s\" + alphabets + \"[.] \",\" \\\\1<prd> \",text)\n",
    "    text = re.sub(acronyms+\" \"+starters,\"\\\\1<stop> \\\\2\",text)\n",
    "    text = re.sub(alphabets + \"[.]\" + alphabets + \"[.]\" + alphabets + \"[.]\",\"\\\\1<prd>\\\\2<prd>\\\\3<prd>\",text)\n",
    "    text = re.sub(alphabets + \"[.]\" + alphabets + \"[.]\",\"\\\\1<prd>\\\\2<prd>\",text)\n",
    "    text = re.sub(\" \"+suffixes+\"[.] \"+starters,\" \\\\1<stop> \\\\2\",text)\n",
    "    text = re.sub(\" \"+suffixes+\"[.]\",\" \\\\1<prd>\",text)\n",
    "    text = re.sub(\" \" + alphabets + \"[.]\",\" \\\\1<prd>\",text)\n",
    "    if \"”\" in text: text = text.replace(\".”\",\"”.\")\n",
    "    if \"\\\"\" in text: text = text.replace(\".\\\"\",\"\\\".\")\n",
    "    if \"!\" in text: text = text.replace(\"!\\\"\",\"\\\"!\")\n",
    "    if \"?\" in text: text = text.replace(\"?\\\"\",\"\\\"?\")\n",
    "    text = text.replace(\".\",\".<stop>\")\n",
    "    text = text.replace(\"?\",\"?<stop>\")\n",
    "    text = text.replace(\"!\",\"!<stop>\")\n",
    "    text = text.replace(\"<prd>\",\".\")\n",
    "    sentences = text.split(\"<stop>\")\n",
    "    sentences = sentences[:-1]\n",
    "    sentences = [s.strip() for s in sentences]\n",
    "    return sentences"
   ]
  },
  {
   "cell_type": "code",
   "execution_count": 31,
   "id": "baced136-1fe9-4079-8013-2c23d13a8edb",
   "metadata": {},
   "outputs": [
    {
     "name": "stdout",
     "output_type": "stream",
     "text": [
      "79289\n"
     ]
    }
   ],
   "source": [
    "f = open(\"data.txt\",\"r\")\n",
    "text= f.read()\n",
    "sentence=split_into_sentences(text)\n",
    "print(len(sentence))"
   ]
  },
  {
   "cell_type": "code",
   "execution_count": 32,
   "id": "4f74fddb-42ff-436b-813a-8c6c5aed9723",
   "metadata": {},
   "outputs": [
    {
     "data": {
      "text/plain": [
       "(array([1.7877e+04, 4.3194e+04, 1.3577e+04, 3.1680e+03, 1.1100e+03,\n",
       "        2.6900e+02, 6.8000e+01, 2.0000e+01, 3.0000e+00, 3.0000e+00]),\n",
       " array([ 1. ,  9.7, 18.4, 27.1, 35.8, 44.5, 53.2, 61.9, 70.6, 79.3, 88. ]),\n",
       " <BarContainer object of 10 artists>)"
      ]
     },
     "execution_count": 32,
     "metadata": {},
     "output_type": "execute_result"
    },
    {
     "data": {
      "image/png": "[encoded data removed]",
      "text/plain": [
       "<Figure size 432x288 with 1 Axes>"
      ]
     },
     "metadata": {
      "needs_background": "light"
     },
     "output_type": "display_data"
    }
   ],
   "source": [
    "sentence_length=[]\n",
    "for i in sentence:\n",
    "    words= i.split()\n",
    "    sentence_length.append(len(words))\n",
    "\n",
    "import matplotlib.pylab as plt\n",
    "plt.hist(sentence_length)    \n",
    "    "
   ]
  },
  {
   "cell_type": "markdown",
   "id": "f70a7f12-0141-419d-a5b8-b8f1e2b318c7",
   "metadata": {},
   "source": [
    "### job55\n",
    "Un pokémon anglais se cache dans “data.txt” … lequel est-il ?"
   ]
  },
  {
   "cell_type": "code",
   "execution_count": 129,
   "id": "5f10b210-5205-4fa5-b4ae-08af91d608bf",
   "metadata": {},
   "outputs": [
    {
     "data": {
      "text/html": [
       "<div>\n",
       "<style scoped>\n",
       "    .dataframe tbody tr th:only-of-type {\n",
       "        vertical-align: middle;\n",
       "    }\n",
       "\n",
       "    .dataframe tbody tr th {\n",
       "        vertical-align: top;\n",
       "    }\n",
       "\n",
       "    .dataframe thead th {\n",
       "        text-align: right;\n",
       "    }\n",
       "</style>\n",
       "<table border=\"1\" class=\"dataframe\">\n",
       "  <thead>\n",
       "    <tr style=\"text-align: right;\">\n",
       "      <th></th>\n",
       "      <th>Pokemon Id</th>\n",
       "      <th>Pokedex Number</th>\n",
       "      <th>Pokemon Name</th>\n",
       "      <th>Classification</th>\n",
       "      <th>Alternate Form Name</th>\n",
       "      <th>Original Pokemon ID</th>\n",
       "      <th>Legendary Type</th>\n",
       "      <th>Pokemon Height</th>\n",
       "      <th>Pokemon Weight</th>\n",
       "      <th>Primary Type</th>\n",
       "      <th>...</th>\n",
       "      <th>EV Yield Total</th>\n",
       "      <th>Catch Rate</th>\n",
       "      <th>Experience Growth</th>\n",
       "      <th>Experience Growth Total</th>\n",
       "      <th>Experience Yield</th>\n",
       "      <th>Primary Egg Group</th>\n",
       "      <th>Secondary Egg Group</th>\n",
       "      <th>Egg Cycle Count</th>\n",
       "      <th>Pre-Evolution Pokemon Id</th>\n",
       "      <th>Evolution Details</th>\n",
       "    </tr>\n",
       "  </thead>\n",
       "  <tbody>\n",
       "    <tr>\n",
       "      <th>0</th>\n",
       "      <td>1</td>\n",
       "      <td>1</td>\n",
       "      <td>Bulbasaur</td>\n",
       "      <td>Seed Pokemon</td>\n",
       "      <td>NaN</td>\n",
       "      <td>NaN</td>\n",
       "      <td>NaN</td>\n",
       "      <td>0.7</td>\n",
       "      <td>6.9</td>\n",
       "      <td>Grass</td>\n",
       "      <td>...</td>\n",
       "      <td>1</td>\n",
       "      <td>45</td>\n",
       "      <td>Medium Slow</td>\n",
       "      <td>1059860</td>\n",
       "      <td>64</td>\n",
       "      <td>Monster</td>\n",
       "      <td>Grass</td>\n",
       "      <td>20</td>\n",
       "      <td>NaN</td>\n",
       "      <td>NaN</td>\n",
       "    </tr>\n",
       "    <tr>\n",
       "      <th>1</th>\n",
       "      <td>2</td>\n",
       "      <td>2</td>\n",
       "      <td>Ivysaur</td>\n",
       "      <td>Seed Pokemon</td>\n",
       "      <td>NaN</td>\n",
       "      <td>NaN</td>\n",
       "      <td>NaN</td>\n",
       "      <td>1.0</td>\n",
       "      <td>13.0</td>\n",
       "      <td>Grass</td>\n",
       "      <td>...</td>\n",
       "      <td>2</td>\n",
       "      <td>45</td>\n",
       "      <td>Medium Slow</td>\n",
       "      <td>1059860</td>\n",
       "      <td>142</td>\n",
       "      <td>Monster</td>\n",
       "      <td>Grass</td>\n",
       "      <td>20</td>\n",
       "      <td>1.0</td>\n",
       "      <td>Level 16</td>\n",
       "    </tr>\n",
       "    <tr>\n",
       "      <th>2</th>\n",
       "      <td>3</td>\n",
       "      <td>3</td>\n",
       "      <td>Venusaur</td>\n",
       "      <td>Seed Pokemon</td>\n",
       "      <td>NaN</td>\n",
       "      <td>NaN</td>\n",
       "      <td>NaN</td>\n",
       "      <td>2.0</td>\n",
       "      <td>100.0</td>\n",
       "      <td>Grass</td>\n",
       "      <td>...</td>\n",
       "      <td>3</td>\n",
       "      <td>45</td>\n",
       "      <td>Medium Slow</td>\n",
       "      <td>1059860</td>\n",
       "      <td>236</td>\n",
       "      <td>Monster</td>\n",
       "      <td>Grass</td>\n",
       "      <td>20</td>\n",
       "      <td>2.0</td>\n",
       "      <td>Level 32</td>\n",
       "    </tr>\n",
       "    <tr>\n",
       "      <th>3</th>\n",
       "      <td>4</td>\n",
       "      <td>3</td>\n",
       "      <td>Venusaur</td>\n",
       "      <td>Seed Pokemon</td>\n",
       "      <td>Mega</td>\n",
       "      <td>3.0</td>\n",
       "      <td>NaN</td>\n",
       "      <td>2.4</td>\n",
       "      <td>155.5</td>\n",
       "      <td>Grass</td>\n",
       "      <td>...</td>\n",
       "      <td>3</td>\n",
       "      <td>45</td>\n",
       "      <td>Medium Slow</td>\n",
       "      <td>1059860</td>\n",
       "      <td>281</td>\n",
       "      <td>Monster</td>\n",
       "      <td>Grass</td>\n",
       "      <td>20</td>\n",
       "      <td>NaN</td>\n",
       "      <td>NaN</td>\n",
       "    </tr>\n",
       "    <tr>\n",
       "      <th>4</th>\n",
       "      <td>5</td>\n",
       "      <td>4</td>\n",
       "      <td>Charmander</td>\n",
       "      <td>Lizard Pokemon</td>\n",
       "      <td>NaN</td>\n",
       "      <td>NaN</td>\n",
       "      <td>NaN</td>\n",
       "      <td>0.6</td>\n",
       "      <td>8.5</td>\n",
       "      <td>Fire</td>\n",
       "      <td>...</td>\n",
       "      <td>1</td>\n",
       "      <td>45</td>\n",
       "      <td>Medium Slow</td>\n",
       "      <td>1059860</td>\n",
       "      <td>62</td>\n",
       "      <td>Monster</td>\n",
       "      <td>Dragon</td>\n",
       "      <td>20</td>\n",
       "      <td>NaN</td>\n",
       "      <td>NaN</td>\n",
       "    </tr>\n",
       "  </tbody>\n",
       "</table>\n",
       "<p>5 rows × 47 columns</p>\n",
       "</div>"
      ],
      "text/plain": [
       "   Pokemon Id  Pokedex Number Pokemon Name  Classification  \\\n",
       "0           1               1    Bulbasaur    Seed Pokemon   \n",
       "1           2               2      Ivysaur    Seed Pokemon   \n",
       "2           3               3     Venusaur    Seed Pokemon   \n",
       "3           4               3     Venusaur    Seed Pokemon   \n",
       "4           5               4   Charmander  Lizard Pokemon   \n",
       "\n",
       "  Alternate Form Name  Original Pokemon ID Legendary Type  Pokemon Height  \\\n",
       "0                 NaN                  NaN            NaN             0.7   \n",
       "1                 NaN                  NaN            NaN             1.0   \n",
       "2                 NaN                  NaN            NaN             2.0   \n",
       "3                Mega                  3.0            NaN             2.4   \n",
       "4                 NaN                  NaN            NaN             0.6   \n",
       "\n",
       "   Pokemon Weight Primary Type  ... EV Yield Total Catch Rate  \\\n",
       "0             6.9        Grass  ...              1         45   \n",
       "1            13.0        Grass  ...              2         45   \n",
       "2           100.0        Grass  ...              3         45   \n",
       "3           155.5        Grass  ...              3         45   \n",
       "4             8.5         Fire  ...              1         45   \n",
       "\n",
       "  Experience Growth Experience Growth Total Experience Yield  \\\n",
       "0       Medium Slow                 1059860               64   \n",
       "1       Medium Slow                 1059860              142   \n",
       "2       Medium Slow                 1059860              236   \n",
       "3       Medium Slow                 1059860              281   \n",
       "4       Medium Slow                 1059860               62   \n",
       "\n",
       "  Primary Egg Group Secondary Egg Group Egg Cycle Count  \\\n",
       "0           Monster               Grass              20   \n",
       "1           Monster               Grass              20   \n",
       "2           Monster               Grass              20   \n",
       "3           Monster               Grass              20   \n",
       "4           Monster              Dragon              20   \n",
       "\n",
       "  Pre-Evolution Pokemon Id  Evolution Details  \n",
       "0                      NaN                NaN  \n",
       "1                      1.0           Level 16  \n",
       "2                      2.0           Level 32  \n",
       "3                      NaN                NaN  \n",
       "4                      NaN                NaN  \n",
       "\n",
       "[5 rows x 47 columns]"
      ]
     },
     "execution_count": 129,
     "metadata": {},
     "output_type": "execute_result"
    }
   ],
   "source": [
    "import pandas as pd\n",
    "df=pd.read_csv( \"Pokemon-database.csv\",on_bad_lines=\"skip\",low_memory=True,encoding = \"ISO-8859-1\")\n",
    "df.head()"
   ]
  },
  {
   "cell_type": "code",
   "execution_count": 177,
   "id": "51aa431c-b63f-47c8-abe6-40c784bb1cd5",
   "metadata": {},
   "outputs": [
    {
     "name": "stdout",
     "output_type": "stream",
     "text": [
      "0        Bulbasaur\n",
      "1          Ivysaur\n",
      "2         Venusaur\n",
      "3         Venusaur\n",
      "4       Charmander\n",
      "           ...    \n",
      "1059       Pikachu\n",
      "1060         Eevee\n",
      "1061        Zarude\n",
      "1062       Urshifu\n",
      "1063       Urshifu\n",
      "Name: Pokemon Name, Length: 1064, dtype: object\n",
      "<class 'pandas.core.series.Series'>\n",
      "RangeIndex: 1064 entries, 0 to 1063\n",
      "Series name: Pokemon Name\n",
      "Non-Null Count  Dtype \n",
      "--------------  ----- \n",
      "1064 non-null   object\n",
      "dtypes: object(1)\n",
      "memory usage: 8.4+ KB\n",
      "None\n",
      "<class 'pandas.core.frame.DataFrame'>\n",
      "RangeIndex: 1064 entries, 0 to 1063\n",
      "Data columns (total 47 columns):\n",
      " #   Column                             Non-Null Count  Dtype  \n",
      "---  ------                             --------------  -----  \n",
      " 0   Pokemon Id                         1064 non-null   int64  \n",
      " 1   Pokedex Number                     1064 non-null   int64  \n",
      " 2   Pokemon Name                       1064 non-null   object \n",
      " 3   Classification                     1064 non-null   object \n",
      " 4   Alternate Form Name                171 non-null    object \n",
      " 5   Original Pokemon ID                171 non-null    float64\n",
      " 6   Legendary Type                     86 non-null     object \n",
      " 7   Pokemon Height                     1064 non-null   float64\n",
      " 8   Pokemon Weight                     1064 non-null   float64\n",
      " 9   Primary Type                       1064 non-null   object \n",
      " 10  Secondary Type                     561 non-null    object \n",
      " 11  Primary Ability                    1064 non-null   object \n",
      " 12  Primary Ability Description        1064 non-null   object \n",
      " 13  Secondary Ability                  535 non-null    object \n",
      " 14  Secondary Ability Description      535 non-null    object \n",
      " 15  Hidden Ability                     839 non-null    object \n",
      " 16  Hidden Ability Description         839 non-null    object \n",
      " 17  Special Event Ability              2 non-null      object \n",
      " 18  Special Event Ability Description  2 non-null      object \n",
      " 19  Male Ratio                         1064 non-null   float64\n",
      " 20  Female Ratio                       1064 non-null   float64\n",
      " 21  Base Happiness                     1064 non-null   int64  \n",
      " 22  Game(s) of Origin                  1064 non-null   object \n",
      " 23  Region of Origin                   1064 non-null   object \n",
      " 24  Health Stat                        1064 non-null   int64  \n",
      " 25  Attack Stat                        1064 non-null   int64  \n",
      " 26  Defense Stat                       1064 non-null   int64  \n",
      " 27  Special Attack Stat                1064 non-null   int64  \n",
      " 28  Special Defense Stat               1064 non-null   int64  \n",
      " 29  Speed Stat                         1064 non-null   int64  \n",
      " 30  Base Stat Total                    1064 non-null   int64  \n",
      " 31  Health EV                          1064 non-null   int64  \n",
      " 32  Attack EV                          1064 non-null   int64  \n",
      " 33  Defense EV                         1064 non-null   int64  \n",
      " 34  Special Attack EV                  1064 non-null   int64  \n",
      " 35  Special Defense EV                 1064 non-null   int64  \n",
      " 36  Speed EV                           1064 non-null   int64  \n",
      " 37  EV Yield Total                     1064 non-null   int64  \n",
      " 38  Catch Rate                         1064 non-null   int64  \n",
      " 39  Experience Growth                  1064 non-null   object \n",
      " 40  Experience Growth Total            1064 non-null   int64  \n",
      " 41  Experience Yield                   1064 non-null   int64  \n",
      " 42  Primary Egg Group                  1064 non-null   object \n",
      " 43  Secondary Egg Group                302 non-null    object \n",
      " 44  Egg Cycle Count                    1064 non-null   int64  \n",
      " 45  Pre-Evolution Pokemon Id           457 non-null    float64\n",
      " 46  Evolution Details                  433 non-null    object \n",
      "dtypes: float64(6), int64(21), object(20)\n",
      "memory usage: 390.8+ KB\n",
      "None\n"
     ]
    }
   ],
   "source": [
    "print(  df.info())\n",
    "print(  df[\"Pokemon Name\"]  )\n",
    "print(  df[\"Pokemon Name\"].info()  )\n"
   ]
  },
  {
   "cell_type": "code",
   "execution_count": 127,
   "id": "1837fbbe-a09f-4c0a-9d49-248cf84bfd57",
   "metadata": {},
   "outputs": [
    {
     "data": {
      "text/html": [
       "<div>\n",
       "<style scoped>\n",
       "    .dataframe tbody tr th:only-of-type {\n",
       "        vertical-align: middle;\n",
       "    }\n",
       "\n",
       "    .dataframe tbody tr th {\n",
       "        vertical-align: top;\n",
       "    }\n",
       "\n",
       "    .dataframe thead th {\n",
       "        text-align: right;\n",
       "    }\n",
       "</style>\n",
       "<table border=\"1\" class=\"dataframe\">\n",
       "  <thead>\n",
       "    <tr style=\"text-align: right;\">\n",
       "      <th></th>\n",
       "      <th>Pokemon Id</th>\n",
       "      <th>Pokedex Number</th>\n",
       "      <th>Pokemon Name</th>\n",
       "      <th>Classification</th>\n",
       "      <th>Alternate Form Name</th>\n",
       "      <th>Original Pokemon ID</th>\n",
       "      <th>Legendary Type</th>\n",
       "      <th>Pokemon Height</th>\n",
       "      <th>Pokemon Weight</th>\n",
       "      <th>Primary Type</th>\n",
       "      <th>...</th>\n",
       "      <th>EV Yield Total</th>\n",
       "      <th>Catch Rate</th>\n",
       "      <th>Experience Growth</th>\n",
       "      <th>Experience Growth Total</th>\n",
       "      <th>Experience Yield</th>\n",
       "      <th>Primary Egg Group</th>\n",
       "      <th>Secondary Egg Group</th>\n",
       "      <th>Egg Cycle Count</th>\n",
       "      <th>Pre-Evolution Pokemon Id</th>\n",
       "      <th>Evolution Details</th>\n",
       "    </tr>\n",
       "  </thead>\n",
       "  <tbody>\n",
       "    <tr>\n",
       "      <th>0</th>\n",
       "      <td>1</td>\n",
       "      <td>1</td>\n",
       "      <td>Bulbasaur</td>\n",
       "      <td>Seed Pokemon</td>\n",
       "      <td>NaN</td>\n",
       "      <td>NaN</td>\n",
       "      <td>NaN</td>\n",
       "      <td>0.7</td>\n",
       "      <td>6.9</td>\n",
       "      <td>Grass</td>\n",
       "      <td>...</td>\n",
       "      <td>1</td>\n",
       "      <td>45</td>\n",
       "      <td>Medium Slow</td>\n",
       "      <td>1059860</td>\n",
       "      <td>64</td>\n",
       "      <td>Monster</td>\n",
       "      <td>Grass</td>\n",
       "      <td>20</td>\n",
       "      <td>NaN</td>\n",
       "      <td>NaN</td>\n",
       "    </tr>\n",
       "    <tr>\n",
       "      <th>1</th>\n",
       "      <td>2</td>\n",
       "      <td>2</td>\n",
       "      <td>Ivysaur</td>\n",
       "      <td>Seed Pokemon</td>\n",
       "      <td>NaN</td>\n",
       "      <td>NaN</td>\n",
       "      <td>NaN</td>\n",
       "      <td>1.0</td>\n",
       "      <td>13.0</td>\n",
       "      <td>Grass</td>\n",
       "      <td>...</td>\n",
       "      <td>2</td>\n",
       "      <td>45</td>\n",
       "      <td>Medium Slow</td>\n",
       "      <td>1059860</td>\n",
       "      <td>142</td>\n",
       "      <td>Monster</td>\n",
       "      <td>Grass</td>\n",
       "      <td>20</td>\n",
       "      <td>1.0</td>\n",
       "      <td>Level 16</td>\n",
       "    </tr>\n",
       "    <tr>\n",
       "      <th>2</th>\n",
       "      <td>3</td>\n",
       "      <td>3</td>\n",
       "      <td>Venusaur</td>\n",
       "      <td>Seed Pokemon</td>\n",
       "      <td>NaN</td>\n",
       "      <td>NaN</td>\n",
       "      <td>NaN</td>\n",
       "      <td>2.0</td>\n",
       "      <td>100.0</td>\n",
       "      <td>Grass</td>\n",
       "      <td>...</td>\n",
       "      <td>3</td>\n",
       "      <td>45</td>\n",
       "      <td>Medium Slow</td>\n",
       "      <td>1059860</td>\n",
       "      <td>236</td>\n",
       "      <td>Monster</td>\n",
       "      <td>Grass</td>\n",
       "      <td>20</td>\n",
       "      <td>2.0</td>\n",
       "      <td>Level 32</td>\n",
       "    </tr>\n",
       "    <tr>\n",
       "      <th>3</th>\n",
       "      <td>4</td>\n",
       "      <td>3</td>\n",
       "      <td>Venusaur</td>\n",
       "      <td>Seed Pokemon</td>\n",
       "      <td>Mega</td>\n",
       "      <td>3.0</td>\n",
       "      <td>NaN</td>\n",
       "      <td>2.4</td>\n",
       "      <td>155.5</td>\n",
       "      <td>Grass</td>\n",
       "      <td>...</td>\n",
       "      <td>3</td>\n",
       "      <td>45</td>\n",
       "      <td>Medium Slow</td>\n",
       "      <td>1059860</td>\n",
       "      <td>281</td>\n",
       "      <td>Monster</td>\n",
       "      <td>Grass</td>\n",
       "      <td>20</td>\n",
       "      <td>NaN</td>\n",
       "      <td>NaN</td>\n",
       "    </tr>\n",
       "    <tr>\n",
       "      <th>4</th>\n",
       "      <td>5</td>\n",
       "      <td>4</td>\n",
       "      <td>Charmander</td>\n",
       "      <td>Lizard Pokemon</td>\n",
       "      <td>NaN</td>\n",
       "      <td>NaN</td>\n",
       "      <td>NaN</td>\n",
       "      <td>0.6</td>\n",
       "      <td>8.5</td>\n",
       "      <td>Fire</td>\n",
       "      <td>...</td>\n",
       "      <td>1</td>\n",
       "      <td>45</td>\n",
       "      <td>Medium Slow</td>\n",
       "      <td>1059860</td>\n",
       "      <td>62</td>\n",
       "      <td>Monster</td>\n",
       "      <td>Dragon</td>\n",
       "      <td>20</td>\n",
       "      <td>NaN</td>\n",
       "      <td>NaN</td>\n",
       "    </tr>\n",
       "  </tbody>\n",
       "</table>\n",
       "<p>5 rows × 47 columns</p>\n",
       "</div>"
      ],
      "text/plain": [
       "   Pokemon Id  Pokedex Number Pokemon Name  Classification  \\\n",
       "0           1               1    Bulbasaur    Seed Pokemon   \n",
       "1           2               2      Ivysaur    Seed Pokemon   \n",
       "2           3               3     Venusaur    Seed Pokemon   \n",
       "3           4               3     Venusaur    Seed Pokemon   \n",
       "4           5               4   Charmander  Lizard Pokemon   \n",
       "\n",
       "  Alternate Form Name  Original Pokemon ID Legendary Type  Pokemon Height  \\\n",
       "0                 NaN                  NaN            NaN             0.7   \n",
       "1                 NaN                  NaN            NaN             1.0   \n",
       "2                 NaN                  NaN            NaN             2.0   \n",
       "3                Mega                  3.0            NaN             2.4   \n",
       "4                 NaN                  NaN            NaN             0.6   \n",
       "\n",
       "   Pokemon Weight Primary Type  ... EV Yield Total Catch Rate  \\\n",
       "0             6.9        Grass  ...              1         45   \n",
       "1            13.0        Grass  ...              2         45   \n",
       "2           100.0        Grass  ...              3         45   \n",
       "3           155.5        Grass  ...              3         45   \n",
       "4             8.5         Fire  ...              1         45   \n",
       "\n",
       "  Experience Growth Experience Growth Total Experience Yield  \\\n",
       "0       Medium Slow                 1059860               64   \n",
       "1       Medium Slow                 1059860              142   \n",
       "2       Medium Slow                 1059860              236   \n",
       "3       Medium Slow                 1059860              281   \n",
       "4       Medium Slow                 1059860               62   \n",
       "\n",
       "  Primary Egg Group Secondary Egg Group Egg Cycle Count  \\\n",
       "0           Monster               Grass              20   \n",
       "1           Monster               Grass              20   \n",
       "2           Monster               Grass              20   \n",
       "3           Monster               Grass              20   \n",
       "4           Monster              Dragon              20   \n",
       "\n",
       "  Pre-Evolution Pokemon Id  Evolution Details  \n",
       "0                      NaN                NaN  \n",
       "1                      1.0           Level 16  \n",
       "2                      2.0           Level 32  \n",
       "3                      NaN                NaN  \n",
       "4                      NaN                NaN  \n",
       "\n",
       "[5 rows x 47 columns]"
      ]
     },
     "execution_count": 127,
     "metadata": {},
     "output_type": "execute_result"
    }
   ],
   "source": []
  },
  {
   "cell_type": "code",
   "execution_count": 137,
   "id": "8e183bcc-e184-4141-ac3f-32383c1074ae",
   "metadata": {},
   "outputs": [],
   "source": [
    "f=open(\"Pokemon_name.txt\",\"w\")\n",
    "f.write(df[\"Pokemon Name\"].to_string(header=False, index=False))\n",
    "f.close()"
   ]
  },
  {
   "cell_type": "code",
   "execution_count": 184,
   "id": "24117dec-c688-42c8-9ebe-76d1d3305bfc",
   "metadata": {},
   "outputs": [
    {
     "name": "stdout",
     "output_type": "stream",
     "text": [
      "6075\n",
      "['', 'Samium', 'capto', 'quo']\n",
      "['Lorem', 'ipsum', 'dolor', 'sit']\n",
      "893\n",
      "['Golett', 'Drilbur', 'Herdier', 'Nihilego']\n",
      "['Bulbasaur', 'Ivysaur', 'Venusaur', 'Venusaur']\n",
      "893\n",
      "1064\n",
      "No common elements\n",
      "common_list : set()\n"
     ]
    }
   ],
   "source": [
    "dataset1={\" \"}\n",
    "data1=[]\n",
    "with open(r'data.txt','r') as file:\n",
    "    data = file.read()\n",
    "    lines = data.split()\n",
    "    for word in lines:        \n",
    "        if word[len(word)-1].isalpha():\n",
    "            dataset1.add(word )\n",
    "            data1.append(word)\n",
    "        else :\n",
    "            dataset1.add(word[:-1] ) \n",
    "            data1.append(word[:-1])\n",
    "            \n",
    "            \n",
    "print(  len(dataset1)  )           \n",
    "print(  list(dataset1)[0:4]  )\n",
    "print(   data1[0:4]  )           \n",
    "\n",
    "data2=[line.strip() for line in open('Pokemon_name.txt')]\n",
    "file2 = set(line.strip() for line in open('Pokemon_name.txt'))\n",
    "print(  len(file2)  )   \n",
    "print(  list(file2)[0:4]  )    \n",
    "print(   data2[0:4]  )  \n",
    "print(len(file2) )\n",
    "print(len(data2) )\n",
    " \n",
    "if (dataset1 & file2):\n",
    "    print(dataset1 & file2)\n",
    "else:\n",
    "    print(\"No common elements\")\n",
    "    \n",
    "common_list = set(data1).intersection(data2)\n",
    "print(\"common_list : \" +str(common_list))"
   ]
  },
  {
   "cell_type": "code",
   "execution_count": null,
   "id": "aa2b0f57-88da-452a-8c37-914634e0b66c",
   "metadata": {},
   "outputs": [],
   "source": []
  }
 ],
 "metadata": {
  "kernelspec": {
   "display_name": "Python 3 (ipykernel)",
   "language": "python",
   "name": "python3"
  },
  "language_info": {
   "codemirror_mode": {
    "name": "ipython",
    "version": 3
   },
   "file_extension": ".py",
   "mimetype": "text/x-python",
   "name": "python",
   "nbconvert_exporter": "python",
   "pygments_lexer": "ipython3",
   "version": "3.9.13"
  }
 },
 "nbformat": 4,
 "nbformat_minor": 5
}
